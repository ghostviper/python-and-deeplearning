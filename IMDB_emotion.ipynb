{
 "cells": [
  {
   "cell_type": "code",
   "execution_count": 20,
   "metadata": {},
   "outputs": [],
   "source": [
    "from keras.datasets import imdb\n",
    "import numpy as np"
   ]
  },
  {
   "cell_type": "code",
   "execution_count": 3,
   "metadata": {},
   "outputs": [],
   "source": [
    "(train_data, train_labels), (test_data, test_labels) = imdb.load_data(num_words=10000)"
   ]
  },
  {
   "cell_type": "code",
   "execution_count": 4,
   "metadata": {},
   "outputs": [
    {
     "data": {
      "text/plain": [
       "((25000,), (25000,))"
      ]
     },
     "execution_count": 4,
     "metadata": {},
     "output_type": "execute_result"
    }
   ],
   "source": [
    "train_data.shape, train_labels.shape"
   ]
  },
  {
   "cell_type": "code",
   "execution_count": 18,
   "metadata": {},
   "outputs": [],
   "source": [
    "word_index = imdb.get_word_index()\n",
    "reverse_word_index =dict([(value, key) for (key, value) in word_index.items()])\n",
    "train_data_0 = [reverse_word_index.get(i-3, '?') for i in train_data[0]]"
   ]
  },
  {
   "cell_type": "code",
   "execution_count": 37,
   "metadata": {},
   "outputs": [],
   "source": [
    "def vectorize_sequences(sequences, dimension=10000):\n",
    "    result = np.zeros((len(sequences), dimension))\n",
    "    for i, sequence in enumerate(sequences):\n",
    "        result[i, sequence] = 1\n",
    "    return result"
   ]
  },
  {
   "cell_type": "code",
   "execution_count": 39,
   "metadata": {},
   "outputs": [],
   "source": [
    "x_train = vectorize_sequences(train_data)"
   ]
  },
  {
   "cell_type": "code",
   "execution_count": 40,
   "metadata": {},
   "outputs": [],
   "source": [
    "x_test = vectorize_sequences(test_data)"
   ]
  },
  {
   "cell_type": "code",
   "execution_count": 43,
   "metadata": {},
   "outputs": [
    {
     "data": {
      "text/plain": [
       "((25000, 10000), 2)"
      ]
     },
     "execution_count": 43,
     "metadata": {},
     "output_type": "execute_result"
    }
   ],
   "source": [
    "x_train.shape, x_train.ndim"
   ]
  },
  {
   "cell_type": "code",
   "execution_count": 44,
   "metadata": {},
   "outputs": [
    {
     "data": {
      "text/plain": [
       "((25000, 10000), 2)"
      ]
     },
     "execution_count": 44,
     "metadata": {},
     "output_type": "execute_result"
    }
   ],
   "source": [
    "x_test.shape, x_test.ndim"
   ]
  },
  {
   "cell_type": "code",
   "execution_count": 45,
   "metadata": {},
   "outputs": [
    {
     "data": {
      "text/plain": [
       "array([0, 1, 1, ..., 0, 0, 0], dtype=int64)"
      ]
     },
     "execution_count": 45,
     "metadata": {},
     "output_type": "execute_result"
    }
   ],
   "source": [
    "test_labels"
   ]
  },
  {
   "cell_type": "code",
   "execution_count": 47,
   "metadata": {},
   "outputs": [],
   "source": [
    "y_train = np.asarray(train_labels).astype('float32')"
   ]
  },
  {
   "cell_type": "code",
   "execution_count": 49,
   "metadata": {},
   "outputs": [],
   "source": [
    "y_test = np.asarray(test_labels).astype('float32')"
   ]
  },
  {
   "cell_type": "code",
   "execution_count": 50,
   "metadata": {},
   "outputs": [],
   "source": [
    "from keras import models\n",
    "from keras import layers"
   ]
  },
  {
   "cell_type": "code",
   "execution_count": 52,
   "metadata": {},
   "outputs": [],
   "source": [
    "model = models.Sequential()\n",
    "model.add(layers.Dense(16, activation='relu', input_shape=(10000, )))\n",
    "model.add(layers.Dense(16, activation='relu'))\n",
    "model.add(layers.Dense(1, activation='sigmoid'))"
   ]
  },
  {
   "cell_type": "code",
   "execution_count": 53,
   "metadata": {},
   "outputs": [],
   "source": [
    "model.compile(optimizer='rmsprop', loss='binary_crossentropy', metrics=['accuracy'])"
   ]
  },
  {
   "cell_type": "code",
   "execution_count": 54,
   "metadata": {},
   "outputs": [],
   "source": [
    "partial_train_data = x_train[:10000]\n",
    "partial_train_labels = y_train[:10000]\n",
    "\n",
    "partial_val_data = x_train[10000:]\n",
    "partial_val_labels = y_train[10000:]"
   ]
  },
  {
   "cell_type": "code",
   "execution_count": 55,
   "metadata": {},
   "outputs": [
    {
     "name": "stdout",
     "output_type": "stream",
     "text": [
      "Train on 10000 samples, validate on 15000 samples\n",
      "Epoch 1/20\n",
      "10000/10000 [==============================] - 5s 531us/step - loss: 0.4526 - acc: 0.8201 - val_loss: 0.3307 - val_acc: 0.8751\n",
      "Epoch 2/20\n",
      "10000/10000 [==============================] - 2s 241us/step - loss: 0.2282 - acc: 0.9225 - val_loss: 0.2920 - val_acc: 0.8843\n",
      "Epoch 3/20\n",
      "10000/10000 [==============================] - 2s 240us/step - loss: 0.1519 - acc: 0.9483 - val_loss: 0.3326 - val_acc: 0.8751\n",
      "Epoch 4/20\n",
      "10000/10000 [==============================] - 2s 238us/step - loss: 0.1064 - acc: 0.9678 - val_loss: 0.3362 - val_acc: 0.8797\n",
      "Epoch 5/20\n",
      "10000/10000 [==============================] - 2s 241us/step - loss: 0.0761 - acc: 0.9767 - val_loss: 0.3782 - val_acc: 0.8725\n",
      "Epoch 6/20\n",
      "10000/10000 [==============================] - 2s 240us/step - loss: 0.0552 - acc: 0.9836 - val_loss: 0.4385 - val_acc: 0.8672\n",
      "Epoch 7/20\n",
      "10000/10000 [==============================] - 2s 241us/step - loss: 0.0386 - acc: 0.9898 - val_loss: 0.5089 - val_acc: 0.8669\n",
      "Epoch 8/20\n",
      "10000/10000 [==============================] - 2s 238us/step - loss: 0.0255 - acc: 0.9938 - val_loss: 0.5930 - val_acc: 0.8600\n",
      "Epoch 9/20\n",
      "10000/10000 [==============================] - 2s 238us/step - loss: 0.0174 - acc: 0.9960 - val_loss: 0.6466 - val_acc: 0.8596\n",
      "Epoch 10/20\n",
      "10000/10000 [==============================] - 2s 240us/step - loss: 0.0109 - acc: 0.9974 - val_loss: 0.8171 - val_acc: 0.8471\n",
      "Epoch 11/20\n",
      "10000/10000 [==============================] - 2s 240us/step - loss: 0.0063 - acc: 0.9986 - val_loss: 0.8095 - val_acc: 0.8509\n",
      "Epoch 12/20\n",
      "10000/10000 [==============================] - 2s 242us/step - loss: 0.0043 - acc: 0.9987 - val_loss: 0.8499 - val_acc: 0.8562\n",
      "Epoch 13/20\n",
      "10000/10000 [==============================] - 2s 243us/step - loss: 0.0019 - acc: 0.9998 - val_loss: 0.9421 - val_acc: 0.8555\n",
      "Epoch 14/20\n",
      "10000/10000 [==============================] - 2s 242us/step - loss: 8.9563e-04 - acc: 0.9999 - val_loss: 1.0312 - val_acc: 0.8534\n",
      "Epoch 15/20\n",
      "10000/10000 [==============================] - 2s 241us/step - loss: 4.2044e-04 - acc: 1.0000 - val_loss: 1.1111 - val_acc: 0.8529\n",
      "Epoch 16/20\n",
      "10000/10000 [==============================] - 2s 243us/step - loss: 2.4205e-04 - acc: 1.0000 - val_loss: 1.1415 - val_acc: 0.8536\n",
      "Epoch 17/20\n",
      "10000/10000 [==============================] - 2s 240us/step - loss: 1.0861e-04 - acc: 1.0000 - val_loss: 1.2033 - val_acc: 0.8519\n",
      "Epoch 18/20\n",
      "10000/10000 [==============================] - 2s 242us/step - loss: 7.8221e-05 - acc: 1.0000 - val_loss: 1.3298 - val_acc: 0.8399\n",
      "Epoch 19/20\n",
      "10000/10000 [==============================] - 2s 244us/step - loss: 4.1831e-05 - acc: 1.0000 - val_loss: 1.2786 - val_acc: 0.8519\n",
      "Epoch 20/20\n",
      "10000/10000 [==============================] - 2s 243us/step - loss: 1.4777e-05 - acc: 1.0000 - val_loss: 1.3273 - val_acc: 0.8503\n"
     ]
    }
   ],
   "source": [
    "history = model.fit(partial_train_data, partial_train_labels, epochs=20, batch_size=128, validation_data=(partial_val_data, partial_val_labels))"
   ]
  },
  {
   "cell_type": "code",
   "execution_count": 56,
   "metadata": {},
   "outputs": [],
   "source": [
    "history.history??"
   ]
  },
  {
   "cell_type": "code",
   "execution_count": 57,
   "metadata": {},
   "outputs": [],
   "source": [
    "import matplotlib.pyplot as plt"
   ]
  },
  {
   "cell_type": "code",
   "execution_count": 59,
   "metadata": {},
   "outputs": [],
   "source": [
    "train_log = history.history"
   ]
  },
  {
   "cell_type": "code",
   "execution_count": 66,
   "metadata": {},
   "outputs": [
    {
     "data": {
      "image/png": "[encoded data removed]",
      "text/plain": [
       "<matplotlib.figure.Figure at 0x1e0259af6d8>"
      ]
     },
     "metadata": {
      "needs_background": "light"
     },
     "output_type": "display_data"
    }
   ],
   "source": [
    "train_epochs = len(train_log['acc'])\n",
    "x_labels = [epoch for epoch in range(1, train_epochs+1)]\n",
    "plt.plot(x_labels, train_log['loss'], 'bo', label='train_loss')\n",
    "plt.plot(x_labels, train_log['val_loss'], 'b', label='validation_loss')\n",
    "plt.title('trainning loss plot')\n",
    "plt.xlabel('Epochs')\n",
    "plt.ylabel('Loss')\n",
    "plt.show()"
   ]
  },
  {
   "cell_type": "code",
   "execution_count": 65,
   "metadata": {},
   "outputs": [
    {
     "data": {
      "image/png": "[encoded data removed]",
      "text/plain": [
       "<matplotlib.figure.Figure at 0x1e024823b38>"
      ]
     },
     "metadata": {
      "needs_background": "light"
     },
     "output_type": "display_data"
    }
   ],
   "source": [
    "# accuracy 和 validation accuracy\n",
    "plt.plot(x_labels, train_log['acc'], 'bo', label='train acc')\n",
    "plt.plot(x_labels, train_log['val_acc'], 'b', label='validation acc')\n",
    "plt.title('training-validation accuracy')\n",
    "plt.xlabel('Epochs')\n",
    "plt.ylabel('accuracy')\n",
    "plt.show()"
   ]
  },
  {
   "cell_type": "code",
   "execution_count": 124,
   "metadata": {},
   "outputs": [
    {
     "name": "stdout",
     "output_type": "stream",
     "text": [
      "Epoch 1/4\n",
      "25000/25000 [==============================] - 4s 175us/step - loss: 0.1428 - acc: 0.8320 0s - loss: 0.1435 - acc: 0.831\n",
      "Epoch 2/4\n",
      "25000/25000 [==============================] - 2s 99us/step - loss: 0.0751 - acc: 0.9127\n",
      "Epoch 3/4\n",
      "25000/25000 [==============================] - 2s 98us/step - loss: 0.0543 - acc: 0.9339\n",
      "Epoch 4/4\n",
      "25000/25000 [==============================] - 2s 97us/step - loss: 0.0434 - acc: 0.9480\n",
      "25000/25000 [==============================] - 3s 120us/step\n"
     ]
    }
   ],
   "source": [
    "model = models.Sequential()\n",
    "model.add(layers.Dense(16, activation='tanh', input_shape=(10000, )))\n",
    "model.add(layers.Dense(8, activation='tanh'))\n",
    "model.add(layers.Dense(1, activation='sigmoid'))\n",
    "model.compile(loss='mse', metrics=['accuracy'], optimizer='rmsprop')\n",
    "model.fit(x_train, y_train, epochs=4, batch_size=512)\n",
    "results = model.evaluate(x_test, y_test)"
   ]
  },
  {
   "cell_type": "code",
   "execution_count": 119,
   "metadata": {},
   "outputs": [
    {
     "data": {
      "text/plain": [
       "[0.09701398791790009, 0.86996]"
      ]
     },
     "execution_count": 119,
     "metadata": {},
     "output_type": "execute_result"
    }
   ],
   "source": [
    "results"
   ]
  },
  {
   "cell_type": "code",
   "execution_count": 127,
   "metadata": {},
   "outputs": [],
   "source": [
    "test_case = \"this film is very horrible, I'll never see it again,garbage!\"\n",
    "words_list = test_case.split(\" \")\n",
    "test_case_vector = [word_index.get(word, 0) for word in words_list]"
   ]
  },
  {
   "cell_type": "code",
   "execution_count": 128,
   "metadata": {},
   "outputs": [],
   "source": [
    "test_case_vector = vectorize_sequences(np.asarray([test_case_vector]))"
   ]
  },
  {
   "cell_type": "code",
   "execution_count": 129,
   "metadata": {},
   "outputs": [
    {
     "data": {
      "text/plain": [
       "array([[0.08779439],\n",
       "       [0.9895778 ],\n",
       "       [0.91234845],\n",
       "       ...,\n",
       "       [0.13895932],\n",
       "       [0.07986806],\n",
       "       [0.44949841]], dtype=float32)"
      ]
     },
     "execution_count": 129,
     "metadata": {},
     "output_type": "execute_result"
    }
   ],
   "source": [
    "model.predict(x_test)"
   ]
  },
  {
   "cell_type": "code",
   "execution_count": 130,
   "metadata": {},
   "outputs": [
    {
     "data": {
      "text/plain": [
       "array([[0.59518343]], dtype=float32)"
      ]
     },
     "execution_count": 130,
     "metadata": {},
     "output_type": "execute_result"
    }
   ],
   "source": [
    "model.predict(test_case_vector)"
   ]
  },
  {
   "cell_type": "code",
   "execution_count": null,
   "metadata": {},
   "outputs": [],
   "source": []
  }
 ],
 "metadata": {
  "kernelspec": {
   "display_name": "Python 3",
   "language": "python",
   "name": "python3"
  },
  "language_info": {
   "codemirror_mode": {
    "name": "ipython",
    "version": 3
   },
   "file_extension": ".py",
   "mimetype": "text/x-python",
   "name": "python",
   "nbconvert_exporter": "python",
   "pygments_lexer": "ipython3",
   "version": "3.5.4"
  }
 },
 "nbformat": 4,
 "nbformat_minor": 2
}
