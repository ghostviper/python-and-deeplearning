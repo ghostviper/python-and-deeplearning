{
 "cells": [
  {
   "cell_type": "code",
   "execution_count": 1,
   "metadata": {},
   "outputs": [],
   "source": [
    "import os\n",
    "import shutil"
   ]
  },
  {
   "cell_type": "code",
   "execution_count": 4,
   "metadata": {},
   "outputs": [],
   "source": [
    "origin_dir = \"D:\\\\project\\\\tensorflow\\\\python_and_dl\\\\data\\\\dogs-vs-cats\\\\cats_and_dogs_small\""
   ]
  },
  {
   "cell_type": "code",
   "execution_count": 6,
   "metadata": {},
   "outputs": [],
   "source": [
    "train_dir = os.path.join(origin_dir, \"train\")"
   ]
  },
  {
   "cell_type": "code",
   "execution_count": 7,
   "metadata": {},
   "outputs": [],
   "source": [
    "validation_dir = os.path.join(origin_dir, \"validation\")"
   ]
  },
  {
   "cell_type": "code",
   "execution_count": 8,
   "metadata": {},
   "outputs": [],
   "source": [
    "test_dir = os.path.join(origin_dir, \"test\")"
   ]
  },
  {
   "cell_type": "code",
   "execution_count": 9,
   "metadata": {},
   "outputs": [],
   "source": [
    "dogs_train_dir = os.path.join(train_dir, \"dogs\")\n",
    "cats_train_dir = os.path.join(train_dir, \"cats\")\n",
    "dogs_validation_dir = os.path.join(validation_dir, \"dogs\")\n",
    "cats_validation_dir = os.path.join(validation_dir, \"cats\")\n",
    "dogs_test_dir = os.path.join(test_dir, \"dogs\")\n",
    "cats_test_dir = os.path.join(test_dir, \"cats\")"
   ]
  },
  {
   "cell_type": "code",
   "execution_count": 12,
   "metadata": {},
   "outputs": [],
   "source": [
    "base_dir = \"D:\\\\project\\\\tensorflow\\\\python_and_dl\\\\data\\\\dogs-vs-cats\\\\\"\n",
    "base_train_dir = os.path.join(base_dir, \"train\")\n",
    "# 拷贝1000张猫到训练目录\n",
    "for fname in ['cat.{}.jpg'.format(i) for i in range(1000)]:\n",
    "    src = os.path.join(base_train_dir, fname)\n",
    "    dest = os.path.join(cats_train_dir, fname)\n",
    "    shutil.copy(src, dest)"
   ]
  },
  {
   "cell_type": "code",
   "execution_count": 13,
   "metadata": {},
   "outputs": [],
   "source": [
    "# 拷贝1000张狗到训练目录\n",
    "for fname in ['dog.{}.jpg'.format(i) for i in range(1000)]:\n",
    "    src = os.path.join(base_train_dir, fname)\n",
    "    dest = os.path.join(dogs_train_dir, fname)\n",
    "    shutil.copy(src, dest)"
   ]
  },
  {
   "cell_type": "code",
   "execution_count": 14,
   "metadata": {},
   "outputs": [],
   "source": [
    "# 拷贝500张狗到验证目录\n",
    "for fname in ['dog.{}.jpg'.format(i) for i in range(1000, 1500)]:\n",
    "    src = os.path.join(base_train_dir, fname)\n",
    "    dest = os.path.join(dogs_validation_dir, fname)\n",
    "    shutil.copy(src, dest)"
   ]
  },
  {
   "cell_type": "code",
   "execution_count": null,
   "metadata": {},
   "outputs": [],
   "source": [
    "# 拷贝500张猫到验证目录\n",
    "for fname in ['cat.{}.jpg'.format(i) for i in range(1000, 1500)]:\n",
    "    src = os.path.join(base_train_dir, fname)\n",
    "    dest = os.path.join(cats_validation_dir, fname)\n",
    "    shutil.copy(src, dest)"
   ]
  }
 ],
 "metadata": {
  "kernelspec": {
   "display_name": "Python 3",
   "language": "python",
   "name": "python3"
  },
  "language_info": {
   "codemirror_mode": {
    "name": "ipython",
    "version": 3
   },
   "file_extension": ".py",
   "mimetype": "text/x-python",
   "name": "python",
   "nbconvert_exporter": "python",
   "pygments_lexer": "ipython3",
   "version": "3.6.1"
  }
 },
 "nbformat": 4,
 "nbformat_minor": 2
}
