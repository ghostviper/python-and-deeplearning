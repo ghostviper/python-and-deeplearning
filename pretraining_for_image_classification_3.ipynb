{
 "cells": [
  {
   "cell_type": "code",
   "execution_count": 1,
   "metadata": {},
   "outputs": [],
   "source": [
    "# fine-tuning VGG16 和特征提取互补，微调是将顶部的前几层解冻，并将解冻的基层和新增的部分联合训练\n",
    "# 基本步骤：\n",
    "# 1.在已经训练好的基础网络上添加自定义网络\n",
    "# 2.冻结基础网络\n",
    "# 3.训练所添加的部分\n",
    "# 4.解冻基础网络的一些层\n",
    "# 5.联合训练解冻的这些曾和添加的部分"
   ]
  },
  {
   "cell_type": "code",
   "execution_count": 2,
   "metadata": {},
   "outputs": [
    {
     "name": "stderr",
     "output_type": "stream",
     "text": [
      "Using TensorFlow backend.\n"
     ]
    }
   ],
   "source": [
    "import os\n",
    "import numpy as np\n",
    "from keras.preprocessing.image import ImageDataGenerator\n",
    "import matplotlib.pyplot as plt\n",
    "from keras.applications import VGG16\n",
    "# 定义一个Dense层的分类器\n",
    "from keras import layers\n",
    "from keras import models\n",
    "from keras import optimizers"
   ]
  },
  {
   "cell_type": "code",
   "execution_count": 3,
   "metadata": {},
   "outputs": [],
   "source": [
    "train_dir = \"./data/dogs-vs-cats/cats_and_dogs_small/train/\"\n",
    "validation_dir = \"./data/dogs-vs-cats/cats_and_dogs_small/validation/\"\n",
    "test_dir = \"./data/dogs-vs-cats/cats_and_dogs_small/test/\"\n",
    "\n",
    "conv_base = VGG16(weights='imagenet', include_top=False, input_shape=(150, 150, 3))\n",
    "\n",
    "train_datagen = ImageDataGenerator(\n",
    "    rescale=1./255,\n",
    "    width_shift_range=0.2,\n",
    "    height_shift_range=0.2,\n",
    "    rotation_range=40,\n",
    "    horizontal_flip=True,\n",
    "    fill_mode='nearest'\n",
    ")"
   ]
  },
  {
   "cell_type": "code",
   "execution_count": 4,
   "metadata": {},
   "outputs": [],
   "source": [
    "test_datagen = ImageDataGenerator(rescale=1./255)"
   ]
  },
  {
   "cell_type": "code",
   "execution_count": 5,
   "metadata": {},
   "outputs": [
    {
     "name": "stdout",
     "output_type": "stream",
     "text": [
      "Found 2000 images belonging to 2 classes.\n"
     ]
    }
   ],
   "source": [
    "train_generator = train_datagen.flow_from_directory(\n",
    "    train_dir,\n",
    "    target_size=(150, 150),\n",
    "    class_mode='binary',\n",
    "    batch_size=20\n",
    ")"
   ]
  },
  {
   "cell_type": "code",
   "execution_count": 6,
   "metadata": {},
   "outputs": [
    {
     "name": "stdout",
     "output_type": "stream",
     "text": [
      "Found 1000 images belonging to 2 classes.\n"
     ]
    }
   ],
   "source": [
    "validation_generator = test_datagen.flow_from_directory(\n",
    "    validation_dir,\n",
    "    target_size=(150, 150),\n",
    "    class_mode='binary',\n",
    "    batch_size=20\n",
    ")"
   ]
  },
  {
   "cell_type": "code",
   "execution_count": 7,
   "metadata": {},
   "outputs": [
    {
     "name": "stdout",
     "output_type": "stream",
     "text": [
      "Found 1000 images belonging to 2 classes.\n"
     ]
    }
   ],
   "source": [
    "test_generator = test_datagen.flow_from_directory(\n",
    "    test_dir,\n",
    "    target_size=(150, 150),\n",
    "    class_mode='binary',\n",
    "    batch_size=20\n",
    ")"
   ]
  },
  {
   "cell_type": "code",
   "execution_count": 8,
   "metadata": {},
   "outputs": [],
   "source": [
    "model = models.Sequential()"
   ]
  },
  {
   "cell_type": "code",
   "execution_count": 9,
   "metadata": {},
   "outputs": [],
   "source": [
    "model.add(conv_base)"
   ]
  },
  {
   "cell_type": "code",
   "execution_count": 10,
   "metadata": {},
   "outputs": [],
   "source": [
    "model.add(layers.Flatten())"
   ]
  },
  {
   "cell_type": "code",
   "execution_count": 11,
   "metadata": {},
   "outputs": [],
   "source": [
    "model.add(layers.Dense(256, activation='relu'))"
   ]
  },
  {
   "cell_type": "code",
   "execution_count": 12,
   "metadata": {},
   "outputs": [],
   "source": [
    "model.add(layers.Dense(1, activation='sigmoid'))"
   ]
  },
  {
   "cell_type": "code",
   "execution_count": 13,
   "metadata": {
    "scrolled": true
   },
   "outputs": [
    {
     "name": "stdout",
     "output_type": "stream",
     "text": [
      "_________________________________________________________________\n",
      "Layer (type)                 Output Shape              Param #   \n",
      "=================================================================\n",
      "input_1 (InputLayer)         (None, 150, 150, 3)       0         \n",
      "_________________________________________________________________\n",
      "block1_conv1 (Conv2D)        (None, 150, 150, 64)      1792      \n",
      "_________________________________________________________________\n",
      "block1_conv2 (Conv2D)        (None, 150, 150, 64)      36928     \n",
      "_________________________________________________________________\n",
      "block1_pool (MaxPooling2D)   (None, 75, 75, 64)        0         \n",
      "_________________________________________________________________\n",
      "block2_conv1 (Conv2D)        (None, 75, 75, 128)       73856     \n",
      "_________________________________________________________________\n",
      "block2_conv2 (Conv2D)        (None, 75, 75, 128)       147584    \n",
      "_________________________________________________________________\n",
      "block2_pool (MaxPooling2D)   (None, 37, 37, 128)       0         \n",
      "_________________________________________________________________\n",
      "block3_conv1 (Conv2D)        (None, 37, 37, 256)       295168    \n",
      "_________________________________________________________________\n",
      "block3_conv2 (Conv2D)        (None, 37, 37, 256)       590080    \n",
      "_________________________________________________________________\n",
      "block3_conv3 (Conv2D)        (None, 37, 37, 256)       590080    \n",
      "_________________________________________________________________\n",
      "block3_pool (MaxPooling2D)   (None, 18, 18, 256)       0         \n",
      "_________________________________________________________________\n",
      "block4_conv1 (Conv2D)        (None, 18, 18, 512)       1180160   \n",
      "_________________________________________________________________\n",
      "block4_conv2 (Conv2D)        (None, 18, 18, 512)       2359808   \n",
      "_________________________________________________________________\n",
      "block4_conv3 (Conv2D)        (None, 18, 18, 512)       2359808   \n",
      "_________________________________________________________________\n",
      "block4_pool (MaxPooling2D)   (None, 9, 9, 512)         0         \n",
      "_________________________________________________________________\n",
      "block5_conv1 (Conv2D)        (None, 9, 9, 512)         2359808   \n",
      "_________________________________________________________________\n",
      "block5_conv2 (Conv2D)        (None, 9, 9, 512)         2359808   \n",
      "_________________________________________________________________\n",
      "block5_conv3 (Conv2D)        (None, 9, 9, 512)         2359808   \n",
      "_________________________________________________________________\n",
      "block5_pool (MaxPooling2D)   (None, 4, 4, 512)         0         \n",
      "=================================================================\n",
      "Total params: 14,714,688\n",
      "Trainable params: 14,714,688\n",
      "Non-trainable params: 0\n",
      "_________________________________________________________________\n"
     ]
    }
   ],
   "source": [
    "conv_base.summary()"
   ]
  },
  {
   "cell_type": "code",
   "execution_count": 14,
   "metadata": {},
   "outputs": [],
   "source": [
    "# 微调 block5_conv1,block5_conv2, block5_conv3三层;其余冻结\n",
    "# 卷积基中更靠近底部的编码是更加通用和可复用的特征，而靠近顶部的层编码是更专业化的特征。\n",
    "# 微调这些更专业的特征更有用，因为他们需要在你的新问题上改变用途，微调更靠近底部的层得到的回报会越少\n",
    "# 只微调最后的三层是为了防止过拟合，因为VGG16 在 猫狗数据集上有1500W个参数"
   ]
  },
  {
   "cell_type": "code",
   "execution_count": 15,
   "metadata": {},
   "outputs": [],
   "source": [
    "conv_base.trainable = True\n",
    "set_trainable = False\n",
    "for layer in conv_base.layers:\n",
    "    if layer.name == \"block5_conv1\":\n",
    "        set_trainable = True\n",
    "    if set_trainable is True:\n",
    "        layer.trainable = True\n",
    "    else:\n",
    "        layer.trainable = False"
   ]
  },
  {
   "cell_type": "code",
   "execution_count": 16,
   "metadata": {
    "scrolled": true
   },
   "outputs": [
    {
     "name": "stdout",
     "output_type": "stream",
     "text": [
      "_________________________________________________________________\n",
      "Layer (type)                 Output Shape              Param #   \n",
      "=================================================================\n",
      "input_1 (InputLayer)         (None, 150, 150, 3)       0         \n",
      "_________________________________________________________________\n",
      "block1_conv1 (Conv2D)        (None, 150, 150, 64)      1792      \n",
      "_________________________________________________________________\n",
      "block1_conv2 (Conv2D)        (None, 150, 150, 64)      36928     \n",
      "_________________________________________________________________\n",
      "block1_pool (MaxPooling2D)   (None, 75, 75, 64)        0         \n",
      "_________________________________________________________________\n",
      "block2_conv1 (Conv2D)        (None, 75, 75, 128)       73856     \n",
      "_________________________________________________________________\n",
      "block2_conv2 (Conv2D)        (None, 75, 75, 128)       147584    \n",
      "_________________________________________________________________\n",
      "block2_pool (MaxPooling2D)   (None, 37, 37, 128)       0         \n",
      "_________________________________________________________________\n",
      "block3_conv1 (Conv2D)        (None, 37, 37, 256)       295168    \n",
      "_________________________________________________________________\n",
      "block3_conv2 (Conv2D)        (None, 37, 37, 256)       590080    \n",
      "_________________________________________________________________\n",
      "block3_conv3 (Conv2D)        (None, 37, 37, 256)       590080    \n",
      "_________________________________________________________________\n",
      "block3_pool (MaxPooling2D)   (None, 18, 18, 256)       0         \n",
      "_________________________________________________________________\n",
      "block4_conv1 (Conv2D)        (None, 18, 18, 512)       1180160   \n",
      "_________________________________________________________________\n",
      "block4_conv2 (Conv2D)        (None, 18, 18, 512)       2359808   \n",
      "_________________________________________________________________\n",
      "block4_conv3 (Conv2D)        (None, 18, 18, 512)       2359808   \n",
      "_________________________________________________________________\n",
      "block4_pool (MaxPooling2D)   (None, 9, 9, 512)         0         \n",
      "_________________________________________________________________\n",
      "block5_conv1 (Conv2D)        (None, 9, 9, 512)         2359808   \n",
      "_________________________________________________________________\n",
      "block5_conv2 (Conv2D)        (None, 9, 9, 512)         2359808   \n",
      "_________________________________________________________________\n",
      "block5_conv3 (Conv2D)        (None, 9, 9, 512)         2359808   \n",
      "_________________________________________________________________\n",
      "block5_pool (MaxPooling2D)   (None, 4, 4, 512)         0         \n",
      "=================================================================\n",
      "Total params: 14,714,688\n",
      "Trainable params: 7,079,424\n",
      "Non-trainable params: 7,635,264\n",
      "_________________________________________________________________\n"
     ]
    }
   ],
   "source": [
    "conv_base.summary()"
   ]
  },
  {
   "cell_type": "code",
   "execution_count": 17,
   "metadata": {},
   "outputs": [],
   "source": [
    "model.compile(optimizer=optimizers.RMSprop(lr=2e-5), metrics=['acc'], loss='binary_crossentropy')"
   ]
  },
  {
   "cell_type": "code",
   "execution_count": 20,
   "metadata": {},
   "outputs": [
    {
     "name": "stdout",
     "output_type": "stream",
     "text": [
      "Epoch 1/30\n",
      "100/100 [==============================] - 18s 183ms/step - loss: 0.4908 - acc: 0.7445 - val_loss: 0.2678 - val_acc: 0.8850\n",
      "Epoch 2/30\n",
      "100/100 [==============================] - 16s 164ms/step - loss: 0.3249 - acc: 0.8525 - val_loss: 0.2141 - val_acc: 0.9060\n",
      "Epoch 3/30\n",
      "100/100 [==============================] - 16s 164ms/step - loss: 0.2869 - acc: 0.8725 - val_loss: 0.1871 - val_acc: 0.9240\n",
      "Epoch 4/30\n",
      "100/100 [==============================] - 16s 165ms/step - loss: 0.2470 - acc: 0.9005 - val_loss: 0.1845 - val_acc: 0.9280\n",
      "Epoch 5/30\n",
      "100/100 [==============================] - 16s 165ms/step - loss: 0.2186 - acc: 0.9140 - val_loss: 0.2267 - val_acc: 0.9100\n",
      "Epoch 6/30\n",
      "100/100 [==============================] - 17s 174ms/step - loss: 0.1966 - acc: 0.9155 - val_loss: 0.1621 - val_acc: 0.9340\n",
      "Epoch 7/30\n",
      "100/100 [==============================] - 16s 165ms/step - loss: 0.1952 - acc: 0.9185 - val_loss: 0.1851 - val_acc: 0.9250\n",
      "Epoch 8/30\n",
      "100/100 [==============================] - 17s 169ms/step - loss: 0.1608 - acc: 0.9370 - val_loss: 0.1610 - val_acc: 0.9310\n",
      "Epoch 9/30\n",
      "100/100 [==============================] - 16s 164ms/step - loss: 0.1525 - acc: 0.9405 - val_loss: 0.1819 - val_acc: 0.9310\n",
      "Epoch 10/30\n",
      "100/100 [==============================] - 16s 164ms/step - loss: 0.1457 - acc: 0.9395 - val_loss: 0.1586 - val_acc: 0.9320\n",
      "Epoch 11/30\n",
      "100/100 [==============================] - 16s 164ms/step - loss: 0.1302 - acc: 0.9475 - val_loss: 0.1558 - val_acc: 0.9340\n",
      "Epoch 12/30\n",
      "100/100 [==============================] - 16s 164ms/step - loss: 0.1219 - acc: 0.9500 - val_loss: 0.2330 - val_acc: 0.9120\n",
      "Epoch 13/30\n",
      "100/100 [==============================] - 16s 164ms/step - loss: 0.1113 - acc: 0.9545 - val_loss: 0.1583 - val_acc: 0.9370\n",
      "Epoch 14/30\n",
      "100/100 [==============================] - 17s 165ms/step - loss: 0.1177 - acc: 0.9530 - val_loss: 0.2233 - val_acc: 0.9230\n",
      "Epoch 15/30\n",
      "100/100 [==============================] - 16s 165ms/step - loss: 0.1053 - acc: 0.9610 - val_loss: 0.1549 - val_acc: 0.9390\n",
      "Epoch 16/30\n",
      "100/100 [==============================] - 16s 164ms/step - loss: 0.1010 - acc: 0.9605 - val_loss: 0.1795 - val_acc: 0.9420\n",
      "Epoch 17/30\n",
      "100/100 [==============================] - 16s 164ms/step - loss: 0.0817 - acc: 0.9675 - val_loss: 0.1669 - val_acc: 0.9360\n",
      "Epoch 18/30\n",
      "100/100 [==============================] - 17s 165ms/step - loss: 0.0914 - acc: 0.9640 - val_loss: 0.1762 - val_acc: 0.9330\n",
      "Epoch 19/30\n",
      "100/100 [==============================] - 16s 164ms/step - loss: 0.0812 - acc: 0.9675 - val_loss: 0.1908 - val_acc: 0.9340\n",
      "Epoch 20/30\n",
      "100/100 [==============================] - 16s 164ms/step - loss: 0.0755 - acc: 0.9720 - val_loss: 0.1942 - val_acc: 0.9390\n",
      "Epoch 21/30\n",
      "100/100 [==============================] - 16s 165ms/step - loss: 0.0798 - acc: 0.9705 - val_loss: 0.2420 - val_acc: 0.9310\n",
      "Epoch 22/30\n",
      "100/100 [==============================] - 16s 164ms/step - loss: 0.0738 - acc: 0.9715 - val_loss: 0.1874 - val_acc: 0.9380\n",
      "Epoch 23/30\n",
      "100/100 [==============================] - 16s 165ms/step - loss: 0.0625 - acc: 0.9800 - val_loss: 0.2229 - val_acc: 0.9280\n",
      "Epoch 24/30\n",
      "100/100 [==============================] - 16s 164ms/step - loss: 0.0568 - acc: 0.9805 - val_loss: 0.2658 - val_acc: 0.9250\n",
      "Epoch 25/30\n",
      "100/100 [==============================] - 16s 164ms/step - loss: 0.0737 - acc: 0.9705 - val_loss: 0.2405 - val_acc: 0.9320\n",
      "Epoch 26/30\n",
      "100/100 [==============================] - 16s 165ms/step - loss: 0.0548 - acc: 0.9770 - val_loss: 0.5165 - val_acc: 0.9030\n",
      "Epoch 27/30\n",
      "100/100 [==============================] - 16s 163ms/step - loss: 0.0588 - acc: 0.9785 - val_loss: 0.3945 - val_acc: 0.9170\n",
      "Epoch 28/30\n",
      "100/100 [==============================] - 16s 164ms/step - loss: 0.0605 - acc: 0.9785 - val_loss: 0.2892 - val_acc: 0.9260\n",
      "Epoch 29/30\n",
      "100/100 [==============================] - 16s 164ms/step - loss: 0.0494 - acc: 0.9810 - val_loss: 0.2248 - val_acc: 0.9340\n",
      "Epoch 30/30\n",
      "100/100 [==============================] - 16s 163ms/step - loss: 0.0479 - acc: 0.9805 - val_loss: 0.1964 - val_acc: 0.9390\n"
     ]
    }
   ],
   "source": [
    "history = model.fit_generator(train_generator, steps_per_epoch=100, epochs=30, validation_data=validation_generator, validation_steps=50)"
   ]
  },
  {
   "cell_type": "code",
   "execution_count": 21,
   "metadata": {},
   "outputs": [
    {
     "data": {
      "text/plain": [
       "[0.27879618115810445, 0.9419999933242797]"
      ]
     },
     "execution_count": 21,
     "metadata": {},
     "output_type": "execute_result"
    }
   ],
   "source": [
    "model.evaluate_generator(test_generator)"
   ]
  },
  {
   "cell_type": "code",
   "execution_count": null,
   "metadata": {},
   "outputs": [],
   "source": []
  }
 ],
 "metadata": {
  "kernelspec": {
   "display_name": "Python 3",
   "language": "python",
   "name": "python3"
  },
  "language_info": {
   "codemirror_mode": {
    "name": "ipython",
    "version": 3
   },
   "file_extension": ".py",
   "mimetype": "text/x-python",
   "name": "python",
   "nbconvert_exporter": "python",
   "pygments_lexer": "ipython3",
   "version": "3.6.1"
  }
 },
 "nbformat": 4,
 "nbformat_minor": 2
}
