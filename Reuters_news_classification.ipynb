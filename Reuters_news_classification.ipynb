{
 "cells": [
  {
   "cell_type": "code",
   "execution_count": 1,
   "metadata": {},
   "outputs": [
    {
     "name": "stderr",
     "output_type": "stream",
     "text": [
      "Using TensorFlow backend.\n"
     ]
    }
   ],
   "source": [
    "from keras.datasets import reuters\n",
    "import numpy as np\n",
    "from keras.utils.np_utils import to_categorical"
   ]
  },
  {
   "cell_type": "code",
   "execution_count": 2,
   "metadata": {},
   "outputs": [],
   "source": [
    "(train_data, train_labels), (test_data, test_labels) = reuters.load_data(num_words=10000)"
   ]
  },
  {
   "cell_type": "code",
   "execution_count": 3,
   "metadata": {},
   "outputs": [
    {
     "data": {
      "text/plain": [
       "((8982,), (8982,))"
      ]
     },
     "execution_count": 3,
     "metadata": {},
     "output_type": "execute_result"
    }
   ],
   "source": [
    "train_data.shape, train_labels.shape"
   ]
  },
  {
   "cell_type": "code",
   "execution_count": 4,
   "metadata": {},
   "outputs": [
    {
     "data": {
      "text/plain": [
       "((2246,), (2246,))"
      ]
     },
     "execution_count": 4,
     "metadata": {},
     "output_type": "execute_result"
    }
   ],
   "source": [
    "test_data.shape, test_labels.shape"
   ]
  },
  {
   "cell_type": "code",
   "execution_count": 5,
   "metadata": {},
   "outputs": [],
   "source": [
    "word_index = reuters.get_word_index()\n",
    "reverse_word_index = dict([(value, key) for (key, value) in word_index.items()])"
   ]
  },
  {
   "cell_type": "code",
   "execution_count": 6,
   "metadata": {},
   "outputs": [],
   "source": [
    "def decoded_sequence(sequences, features=10000):\n",
    "    result = np.zeros((len(sequences), features))\n",
    "    for i, sequence in enumerate(sequences):\n",
    "        result[i, sequence] = 1\n",
    "    return result"
   ]
  },
  {
   "cell_type": "code",
   "execution_count": 7,
   "metadata": {},
   "outputs": [],
   "source": [
    "x_train = decoded_sequence(train_data)\n",
    "x_test = decoded_sequence(test_data)"
   ]
  },
  {
   "cell_type": "code",
   "execution_count": 8,
   "metadata": {},
   "outputs": [
    {
     "data": {
      "text/plain": [
       "((8982, 10000), (2246, 10000))"
      ]
     },
     "execution_count": 8,
     "metadata": {},
     "output_type": "execute_result"
    }
   ],
   "source": [
    "x_train.shape, x_test.shape"
   ]
  },
  {
   "cell_type": "code",
   "execution_count": 9,
   "metadata": {},
   "outputs": [],
   "source": [
    "y_train = np.asarray(to_categorical(train_labels))\n",
    "y_test = np.asarray(to_categorical(test_labels))"
   ]
  },
  {
   "cell_type": "code",
   "execution_count": 68,
   "metadata": {},
   "outputs": [],
   "source": [
    "partial_val_x = x_train[:1000]\n",
    "partial_val_y = y_train[:1000]\n",
    "partial_train_x = x_train[1000:]\n",
    "partial_train_y = y_train[1000:]"
   ]
  },
  {
   "cell_type": "code",
   "execution_count": 69,
   "metadata": {},
   "outputs": [
    {
     "data": {
      "text/plain": [
       "((8982, 46), (2246, 46))"
      ]
     },
     "execution_count": 69,
     "metadata": {},
     "output_type": "execute_result"
    }
   ],
   "source": [
    "y_train.shape, y_test.shape"
   ]
  },
  {
   "cell_type": "code",
   "execution_count": 70,
   "metadata": {},
   "outputs": [],
   "source": [
    "from keras import models\n",
    "from keras import layers"
   ]
  },
  {
   "cell_type": "code",
   "execution_count": 71,
   "metadata": {},
   "outputs": [
    {
     "name": "stdout",
     "output_type": "stream",
     "text": [
      "Train on 7982 samples, validate on 1000 samples\n",
      "Epoch 1/20\n",
      "7982/7982 [==============================] - 7s 920us/step - loss: 1.3595 - acc: 0.6987 - val_loss: 0.9943 - val_acc: 0.7940\n",
      "Epoch 2/20\n",
      "7982/7982 [==============================] - 7s 824us/step - loss: 0.6416 - acc: 0.8577 - val_loss: 0.8598 - val_acc: 0.8220\n",
      "Epoch 3/20\n",
      "7982/7982 [==============================] - 7s 837us/step - loss: 0.3842 - acc: 0.9157 - val_loss: 0.8915 - val_acc: 0.8170\n",
      "Epoch 4/20\n",
      "7982/7982 [==============================] - 6s 798us/step - loss: 0.2803 - acc: 0.9381 - val_loss: 0.9293 - val_acc: 0.8160\n",
      "Epoch 5/20\n",
      "7982/7982 [==============================] - 6s 792us/step - loss: 0.2262 - acc: 0.9493 - val_loss: 0.9584 - val_acc: 0.8230\n",
      "Epoch 6/20\n",
      "7982/7982 [==============================] - 7s 831us/step - loss: 0.1946 - acc: 0.9525 - val_loss: 1.0827 - val_acc: 0.8150\n",
      "Epoch 7/20\n",
      "7982/7982 [==============================] - 6s 805us/step - loss: 0.1814 - acc: 0.9539 - val_loss: 1.1731 - val_acc: 0.8000\n",
      "Epoch 8/20\n",
      "7982/7982 [==============================] - 6s 806us/step - loss: 0.1643 - acc: 0.9526 - val_loss: 1.2101 - val_acc: 0.8130- loss: 0.1593 - acc\n",
      "Epoch 9/20\n",
      "7982/7982 [==============================] - 6s 803us/step - loss: 0.1537 - acc: 0.9548 - val_loss: 1.2469 - val_acc: 0.7990\n",
      "Epoch 10/20\n",
      "7982/7982 [==============================] - 6s 796us/step - loss: 0.1469 - acc: 0.9558 - val_loss: 1.2979 - val_acc: 0.7960\n",
      "Epoch 11/20\n",
      "7982/7982 [==============================] - 7s 829us/step - loss: 0.1399 - acc: 0.9557 - val_loss: 1.2544 - val_acc: 0.8050\n",
      "Epoch 12/20\n",
      "7982/7982 [==============================] - 6s 800us/step - loss: 0.1357 - acc: 0.9559 - val_loss: 1.3705 - val_acc: 0.7930\n",
      "Epoch 13/20\n",
      "7982/7982 [==============================] - 6s 800us/step - loss: 0.1241 - acc: 0.9570 - val_loss: 1.4401 - val_acc: 0.8010\n",
      "Epoch 14/20\n",
      "7982/7982 [==============================] - 6s 802us/step - loss: 0.1218 - acc: 0.9585 - val_loss: 1.4394 - val_acc: 0.7960\n",
      "Epoch 15/20\n",
      "7982/7982 [==============================] - 6s 805us/step - loss: 0.1202 - acc: 0.9589 - val_loss: 1.4380 - val_acc: 0.8020\n",
      "Epoch 16/20\n",
      "7982/7982 [==============================] - 6s 807us/step - loss: 0.1135 - acc: 0.9579 - val_loss: 1.5868 - val_acc: 0.7960\n",
      "Epoch 17/20\n",
      "7982/7982 [==============================] - 6s 799us/step - loss: 0.1143 - acc: 0.9558 - val_loss: 1.6367 - val_acc: 0.8040\n",
      "Epoch 18/20\n",
      "7982/7982 [==============================] - 6s 804us/step - loss: 0.1057 - acc: 0.9592 - val_loss: 1.6830 - val_acc: 0.7950\n",
      "Epoch 19/20\n",
      "7982/7982 [==============================] - 6s 794us/step - loss: 0.1103 - acc: 0.9572 - val_loss: 1.6976 - val_acc: 0.7860\n",
      "Epoch 20/20\n",
      "7982/7982 [==============================] - 6s 810us/step - loss: 0.1088 - acc: 0.9592 - val_loss: 1.8001 - val_acc: 0.7860\n"
     ]
    }
   ],
   "source": [
    "model = models.Sequential()\n",
    "model.add(layers.Dense(128, activation='relu', input_shape=(10000, )))\n",
    "model.add(layers.Dense(64, activation='relu'))\n",
    "model.add(layers.Dense(46, activation='softmax'))\n",
    "model.compile(loss='categorical_crossentropy', optimizer='rmsprop', metrics=['accuracy'])\n",
    "history = model.fit(partial_train_x, partial_train_y, validation_data=(partial_val_x, partial_val_y), epochs=20)"
   ]
  },
  {
   "cell_type": "code",
   "execution_count": 72,
   "metadata": {},
   "outputs": [
    {
     "data": {
      "text/plain": [
       "dict_keys(['val_loss', 'loss', 'acc', 'val_acc'])"
      ]
     },
     "execution_count": 72,
     "metadata": {},
     "output_type": "execute_result"
    }
   ],
   "source": [
    "history.history.keys()"
   ]
  },
  {
   "cell_type": "code",
   "execution_count": 73,
   "metadata": {},
   "outputs": [],
   "source": [
    "import matplotlib.pyplot as plt"
   ]
  },
  {
   "cell_type": "code",
   "execution_count": 74,
   "metadata": {},
   "outputs": [],
   "source": [
    "def val_train_acc_plot(x_data):\n",
    "    plt.plot(x_data, history.history['acc'], 'b', label='acc')\n",
    "    plt.plot(x_data, history.history['val_acc'], 'r', label='val acc')\n",
    "    plt.legend()\n",
    "    plt.title('Training Accuracy / Validation Accuracy')\n",
    "    plt.xlabel('Epochs')\n",
    "    plt.ylabel('Acc Rate')\n",
    "    plt.show()"
   ]
  },
  {
   "cell_type": "code",
   "execution_count": 75,
   "metadata": {},
   "outputs": [],
   "source": [
    "def val_train_loss_plot(x_data):\n",
    "    plt.plot(x_data, history.history['loss'], 'b', label='loss')\n",
    "    plt.plot(x_data, history.history['val_loss'], 'r', label='val loss')\n",
    "    plt.legend()\n",
    "    plt.title('Training Loss / Validation Loss')\n",
    "    plt.xlabel('Epochs')\n",
    "    plt.ylabel('Loss Rate')\n",
    "    plt.show()"
   ]
  },
  {
   "cell_type": "code",
   "execution_count": 76,
   "metadata": {},
   "outputs": [],
   "source": [
    "x_data = [i for i in range(1, 21)]"
   ]
  },
  {
   "cell_type": "code",
   "execution_count": 77,
   "metadata": {},
   "outputs": [],
   "source": [
    "def acc_loss(x_data):\n",
    "    plt.plot(x_data, history.history['acc'], 'b', label='acc')\n",
    "    plt.plot(x_data, history.history['loss'], 'r', label='loss')\n",
    "    plt.legend()\n",
    "    plt.title('Training Accuracy / Training Loss')\n",
    "    plt.xlabel('Epochs')\n",
    "    plt.ylabel('Rate')\n",
    "    plt.show()"
   ]
  },
  {
   "cell_type": "code",
   "execution_count": 78,
   "metadata": {},
   "outputs": [
    {
     "data": {
      "image/png": "[encoded data removed]",
      "text/plain": [
       "<matplotlib.figure.Figure at 0x1fabd46f278>"
      ]
     },
     "metadata": {
      "needs_background": "light"
     },
     "output_type": "display_data"
    }
   ],
   "source": [
    "acc_loss(x_data)"
   ]
  },
  {
   "cell_type": "code",
   "execution_count": 79,
   "metadata": {},
   "outputs": [
    {
     "data": {
      "image/png": "[encoded data removed]",
      "text/plain": [
       "<matplotlib.figure.Figure at 0x1fabe9a0908>"
      ]
     },
     "metadata": {
      "needs_background": "light"
     },
     "output_type": "display_data"
    }
   ],
   "source": [
    "val_train_acc_plot(x_data)"
   ]
  },
  {
   "cell_type": "code",
   "execution_count": 80,
   "metadata": {},
   "outputs": [
    {
     "data": {
      "image/png": "[encoded data removed]",
      "text/plain": [
       "<matplotlib.figure.Figure at 0x1fabe6c4b00>"
      ]
     },
     "metadata": {
      "needs_background": "light"
     },
     "output_type": "display_data"
    }
   ],
   "source": [
    "val_train_loss_plot(x_data)"
   ]
  },
  {
   "cell_type": "code",
   "execution_count": 82,
   "metadata": {},
   "outputs": [
    {
     "name": "stdout",
     "output_type": "stream",
     "text": [
      "2246/2246 [==============================] - 1s 239us/step\n"
     ]
    },
    {
     "data": {
      "text/plain": [
       "[1.9205525367257856, 0.7733748882663961]"
      ]
     },
     "execution_count": 82,
     "metadata": {},
     "output_type": "execute_result"
    }
   ],
   "source": [
    "model.evaluate(x_test, y_test, batch_size=128)"
   ]
  },
  {
   "cell_type": "code",
   "execution_count": null,
   "metadata": {},
   "outputs": [],
   "source": []
  }
 ],
 "metadata": {
  "kernelspec": {
   "display_name": "Python 3",
   "language": "python",
   "name": "python3"
  },
  "language_info": {
   "codemirror_mode": {
    "name": "ipython",
    "version": 3
   },
   "file_extension": ".py",
   "mimetype": "text/x-python",
   "name": "python",
   "nbconvert_exporter": "python",
   "pygments_lexer": "ipython3",
   "version": "3.5.4"
  }
 },
 "nbformat": 4,
 "nbformat_minor": 2
}
