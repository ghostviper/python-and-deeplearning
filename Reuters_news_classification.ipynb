{
 "cells": [
  {
   "cell_type": "code",
   "execution_count": 2,
   "metadata": {},
   "outputs": [
    {
     "name": "stderr",
     "output_type": "stream",
     "text": [
      "Using TensorFlow backend.\n"
     ]
    }
   ],
   "source": [
    "from keras.datasets import reuters\n",
    "import numpy as np\n",
    "from keras.utils.np_utils import to_categorical"
   ]
  },
  {
   "cell_type": "code",
   "execution_count": 3,
   "metadata": {},
   "outputs": [],
   "source": [
    "(train_data, train_labels), (test_data, test_labels) = reuters.load_data(num_words=10000)"
   ]
  },
  {
   "cell_type": "code",
   "execution_count": 4,
   "metadata": {},
   "outputs": [
    {
     "data": {
      "text/plain": [
       "((8982,), (8982,))"
      ]
     },
     "execution_count": 4,
     "metadata": {},
     "output_type": "execute_result"
    }
   ],
   "source": [
    "train_data.shape, train_labels.shape"
   ]
  },
  {
   "cell_type": "code",
   "execution_count": 5,
   "metadata": {},
   "outputs": [
    {
     "data": {
      "text/plain": [
       "((2246,), (2246,))"
      ]
     },
     "execution_count": 5,
     "metadata": {},
     "output_type": "execute_result"
    }
   ],
   "source": [
    "test_data.shape, test_labels.shape"
   ]
  },
  {
   "cell_type": "code",
   "execution_count": 6,
   "metadata": {},
   "outputs": [],
   "source": [
    "word_index = reuters.get_word_index()\n",
    "reverse_word_index = dict([(value, key) for (key, value) in word_index.items()])"
   ]
  },
  {
   "cell_type": "code",
   "execution_count": 7,
   "metadata": {},
   "outputs": [],
   "source": [
    "def decoded_sequence(sequences, features=10000):\n",
    "    result = np.zeros((len(sequences), features))\n",
    "    for i, sequence in enumerate(sequences):\n",
    "        result[i, sequence] = 1\n",
    "    return result"
   ]
  },
  {
   "cell_type": "code",
   "execution_count": 8,
   "metadata": {},
   "outputs": [],
   "source": [
    "x_train = decoded_sequence(train_data)\n",
    "x_test = decoded_sequence(test_data)"
   ]
  },
  {
   "cell_type": "code",
   "execution_count": 9,
   "metadata": {},
   "outputs": [
    {
     "data": {
      "text/plain": [
       "((8982, 10000), (2246, 10000))"
      ]
     },
     "execution_count": 9,
     "metadata": {},
     "output_type": "execute_result"
    }
   ],
   "source": [
    "x_train.shape, x_test.shape"
   ]
  },
  {
   "cell_type": "code",
   "execution_count": 10,
   "metadata": {},
   "outputs": [],
   "source": [
    "y_train = np.asarray(to_categorical(train_labels))\n",
    "y_test = np.asarray(to_categorical(test_labels))"
   ]
  },
  {
   "cell_type": "code",
   "execution_count": 11,
   "metadata": {},
   "outputs": [],
   "source": [
    "partial_val_x = x_train[:1000]\n",
    "partial_val_y = y_train[:1000]\n",
    "partial_train_x = x_train[1000:]\n",
    "partial_train_y = y_train[1000:]"
   ]
  },
  {
   "cell_type": "code",
   "execution_count": 12,
   "metadata": {},
   "outputs": [
    {
     "data": {
      "text/plain": [
       "((8982, 46), (2246, 46))"
      ]
     },
     "execution_count": 12,
     "metadata": {},
     "output_type": "execute_result"
    }
   ],
   "source": [
    "y_train.shape, y_test.shape"
   ]
  },
  {
   "cell_type": "code",
   "execution_count": 13,
   "metadata": {},
   "outputs": [],
   "source": [
    "from keras import models\n",
    "from keras import layers"
   ]
  },
  {
   "cell_type": "code",
   "execution_count": 14,
   "metadata": {},
   "outputs": [
    {
     "name": "stdout",
     "output_type": "stream",
     "text": [
      "Train on 7982 samples, validate on 1000 samples\n",
      "Epoch 1/20\n",
      "7982/7982 [==============================] - 8s 988us/step - loss: 1.3590 - acc: 0.7006 - val_loss: 0.9804 - val_acc: 0.7930\n",
      "Epoch 2/20\n",
      "7982/7982 [==============================] - 6s 814us/step - loss: 0.6571 - acc: 0.8568 - val_loss: 0.8217 - val_acc: 0.8290\n",
      "Epoch 3/20\n",
      "7982/7982 [==============================] - 6s 806us/step - loss: 0.3908 - acc: 0.9131 - val_loss: 0.8533 - val_acc: 0.8330\n",
      "Epoch 4/20\n",
      "7982/7982 [==============================] - 6s 789us/step - loss: 0.2800 - acc: 0.9350 - val_loss: 0.8983 - val_acc: 0.8200\n",
      "Epoch 5/20\n",
      "7982/7982 [==============================] - 6s 805us/step - loss: 0.2249 - acc: 0.9478 - val_loss: 1.0063 - val_acc: 0.8250\n",
      "Epoch 6/20\n",
      "7982/7982 [==============================] - 6s 809us/step - loss: 0.1991 - acc: 0.9526 - val_loss: 1.0976 - val_acc: 0.8120\n",
      "Epoch 7/20\n",
      "7982/7982 [==============================] - 6s 808us/step - loss: 0.1807 - acc: 0.9525 - val_loss: 1.2107 - val_acc: 0.8030\n",
      "Epoch 8/20\n",
      "7982/7982 [==============================] - 6s 813us/step - loss: 0.1662 - acc: 0.9545 - val_loss: 1.2730 - val_acc: 0.7860\n",
      "Epoch 9/20\n",
      "7982/7982 [==============================] - 7s 836us/step - loss: 0.1587 - acc: 0.9538 - val_loss: 1.2476 - val_acc: 0.8130\n",
      "Epoch 10/20\n",
      "7982/7982 [==============================] - 7s 827us/step - loss: 0.1529 - acc: 0.9570 - val_loss: 1.3551 - val_acc: 0.8040\n",
      "Epoch 11/20\n",
      "7982/7982 [==============================] - 6s 813us/step - loss: 0.1440 - acc: 0.9573 - val_loss: 1.2743 - val_acc: 0.8010\n",
      "Epoch 12/20\n",
      "7982/7982 [==============================] - 7s 836us/step - loss: 0.1361 - acc: 0.9580 - val_loss: 1.3846 - val_acc: 0.8070\n",
      "Epoch 13/20\n",
      "7982/7982 [==============================] - 6s 799us/step - loss: 0.1346 - acc: 0.9575 - val_loss: 1.4500 - val_acc: 0.8020\n",
      "Epoch 14/20\n",
      "7982/7982 [==============================] - 7s 829us/step - loss: 0.1281 - acc: 0.9570 - val_loss: 1.5202 - val_acc: 0.7920\n",
      "Epoch 15/20\n",
      "7982/7982 [==============================] - 7s 824us/step - loss: 0.1211 - acc: 0.9575 - val_loss: 1.5063 - val_acc: 0.7980\n",
      "Epoch 16/20\n",
      "7982/7982 [==============================] - 7s 833us/step - loss: 0.1202 - acc: 0.9578 - val_loss: 1.5550 - val_acc: 0.7960\n",
      "Epoch 17/20\n",
      "7982/7982 [==============================] - 6s 807us/step - loss: 0.1147 - acc: 0.9577 - val_loss: 1.5973 - val_acc: 0.7850\n",
      "Epoch 18/20\n",
      "7982/7982 [==============================] - 6s 812us/step - loss: 0.1129 - acc: 0.9578 - val_loss: 1.6977 - val_acc: 0.7940\n",
      "Epoch 19/20\n",
      "7982/7982 [==============================] - 7s 822us/step - loss: 0.1179 - acc: 0.9567 - val_loss: 1.7284 - val_acc: 0.7950\n",
      "Epoch 20/20\n",
      "7982/7982 [==============================] - 6s 812us/step - loss: 0.1139 - acc: 0.9593 - val_loss: 1.6820 - val_acc: 0.7850\n"
     ]
    }
   ],
   "source": [
    "model = models.Sequential()\n",
    "model.add(layers.Dense(128, activation='relu', input_shape=(10000, )))\n",
    "model.add(layers.Dense(64, activation='relu'))\n",
    "model.add(layers.Dense(46, activation='softmax'))\n",
    "model.compile(loss='categorical_crossentropy', optimizer='rmsprop', metrics=['accuracy'])\n",
    "history = model.fit(partial_train_x, partial_train_y, validation_data=(partial_val_x, partial_val_y), epochs=20)"
   ]
  },
  {
   "cell_type": "code",
   "execution_count": 15,
   "metadata": {},
   "outputs": [
    {
     "data": {
      "text/plain": [
       "dict_keys(['loss', 'val_loss', 'val_acc', 'acc'])"
      ]
     },
     "execution_count": 15,
     "metadata": {},
     "output_type": "execute_result"
    }
   ],
   "source": [
    "history.history.keys()"
   ]
  },
  {
   "cell_type": "code",
   "execution_count": 16,
   "metadata": {},
   "outputs": [],
   "source": [
    "import matplotlib.pyplot as plt"
   ]
  },
  {
   "cell_type": "code",
   "execution_count": 17,
   "metadata": {},
   "outputs": [],
   "source": [
    "def val_train_acc_plot(x_data):\n",
    "    plt.plot(x_data, history.history['acc'], 'b', label='acc')\n",
    "    plt.plot(x_data, history.history['val_acc'], 'r', label='val acc')\n",
    "    plt.legend()\n",
    "    plt.title('Training Accuracy / Validation Accuracy')\n",
    "    plt.xlabel('Epochs')\n",
    "    plt.ylabel('Acc Rate')\n",
    "    plt.show()"
   ]
  },
  {
   "cell_type": "code",
   "execution_count": 18,
   "metadata": {},
   "outputs": [],
   "source": [
    "def val_train_loss_plot(x_data):\n",
    "    plt.plot(x_data, history.history['loss'], 'b', label='loss')\n",
    "    plt.plot(x_data, history.history['val_loss'], 'r', label='val loss')\n",
    "    plt.legend()\n",
    "    plt.title('Training Loss / Validation Loss')\n",
    "    plt.xlabel('Epochs')\n",
    "    plt.ylabel('Loss Rate')\n",
    "    plt.show()"
   ]
  },
  {
   "cell_type": "code",
   "execution_count": 19,
   "metadata": {},
   "outputs": [],
   "source": [
    "x_data = [i for i in range(1, 21)]"
   ]
  },
  {
   "cell_type": "code",
   "execution_count": 20,
   "metadata": {},
   "outputs": [],
   "source": [
    "def acc_loss(x_data):\n",
    "    plt.plot(x_data, history.history['acc'], 'b', label='acc')\n",
    "    plt.plot(x_data, history.history['loss'], 'r', label='loss')\n",
    "    plt.legend()\n",
    "    plt.title('Training Accuracy / Training Loss')\n",
    "    plt.xlabel('Epochs')\n",
    "    plt.ylabel('Rate')\n",
    "    plt.show()"
   ]
  },
  {
   "cell_type": "code",
   "execution_count": 21,
   "metadata": {},
   "outputs": [
    {
     "data": {
      "image/png": "[encoded data removed]",
      "text/plain": [
       "<matplotlib.figure.Figure at 0x1e6c0706a58>"
      ]
     },
     "metadata": {
      "needs_background": "light"
     },
     "output_type": "display_data"
    }
   ],
   "source": [
    "acc_loss(x_data)"
   ]
  },
  {
   "cell_type": "code",
   "execution_count": 22,
   "metadata": {},
   "outputs": [
    {
     "data": {
      "image/png": "[encoded data removed]",
      "text/plain": [
       "<matplotlib.figure.Figure at 0x1e6c0445940>"
      ]
     },
     "metadata": {
      "needs_background": "light"
     },
     "output_type": "display_data"
    }
   ],
   "source": [
    "val_train_acc_plot(x_data)"
   ]
  },
  {
   "cell_type": "code",
   "execution_count": 23,
   "metadata": {},
   "outputs": [
    {
     "data": {
      "image/png": "[encoded data removed]",
      "text/plain": [
       "<matplotlib.figure.Figure at 0x1e6c0148240>"
      ]
     },
     "metadata": {
      "needs_background": "light"
     },
     "output_type": "display_data"
    }
   ],
   "source": [
    "val_train_loss_plot(x_data)"
   ]
  },
  {
   "cell_type": "code",
   "execution_count": 24,
   "metadata": {},
   "outputs": [
    {
     "name": "stdout",
     "output_type": "stream",
     "text": [
      "2246/2246 [==============================] - 1s 276us/step\n"
     ]
    },
    {
     "data": {
      "text/plain": [
       "[1.9823548876591697, 0.7787177208694941]"
      ]
     },
     "execution_count": 24,
     "metadata": {},
     "output_type": "execute_result"
    }
   ],
   "source": [
    "model.evaluate(x_test, y_test, batch_size=128)"
   ]
  },
  {
   "cell_type": "code",
   "execution_count": 26,
   "metadata": {},
   "outputs": [],
   "source": [
    "predictions = model.predict(x_test)"
   ]
  },
  {
   "cell_type": "code",
   "execution_count": 30,
   "metadata": {},
   "outputs": [
    {
     "data": {
      "text/plain": [
       "(2246, 46)"
      ]
     },
     "execution_count": 30,
     "metadata": {},
     "output_type": "execute_result"
    }
   ],
   "source": [
    "predictions.shape"
   ]
  },
  {
   "cell_type": "code",
   "execution_count": 40,
   "metadata": {},
   "outputs": [],
   "source": [
    "assert type(predictions[0, :]) == type(predictions[0])"
   ]
  },
  {
   "cell_type": "code",
   "execution_count": 34,
   "metadata": {},
   "outputs": [
    {
     "data": {
      "text/plain": [
       "(46,)"
      ]
     },
     "execution_count": 34,
     "metadata": {},
     "output_type": "execute_result"
    }
   ],
   "source": [
    "predictions[0].shape"
   ]
  },
  {
   "cell_type": "code",
   "execution_count": 41,
   "metadata": {},
   "outputs": [
    {
     "data": {
      "text/plain": [
       "3"
      ]
     },
     "execution_count": 41,
     "metadata": {},
     "output_type": "execute_result"
    }
   ],
   "source": [
    "np.argmax(predictions[0])"
   ]
  },
  {
   "cell_type": "code",
   "execution_count": 42,
   "metadata": {},
   "outputs": [
    {
     "data": {
      "text/plain": [
       "array([ 3,  4,  3, ..., 25,  3, 25], dtype=int64)"
      ]
     },
     "execution_count": 42,
     "metadata": {},
     "output_type": "execute_result"
    }
   ],
   "source": [
    "train_labels"
   ]
  },
  {
   "cell_type": "code",
   "execution_count": 43,
   "metadata": {},
   "outputs": [],
   "source": [
    "# sparse_categorical_crossentropy 可以对整数进行编码\n",
    "# categorical_crossentropy可以对one-hot进行编码"
   ]
  },
  {
   "cell_type": "code",
   "execution_count": null,
   "metadata": {},
   "outputs": [],
   "source": []
  }
 ],
 "metadata": {
  "kernelspec": {
   "display_name": "Python 3",
   "language": "python",
   "name": "python3"
  },
  "language_info": {
   "codemirror_mode": {
    "name": "ipython",
    "version": 3
   },
   "file_extension": ".py",
   "mimetype": "text/x-python",
   "name": "python",
   "nbconvert_exporter": "python",
   "pygments_lexer": "ipython3",
   "version": "3.5.4"
  }
 },
 "nbformat": 4,
 "nbformat_minor": 2
}
