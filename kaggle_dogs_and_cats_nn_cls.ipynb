{
 "cells": [
  {
   "cell_type": "code",
   "execution_count": 1,
   "metadata": {},
   "outputs": [],
   "source": [
    "# 数据预处理：\n",
    "# 1.读取图像文件\n",
    "# 2.将jpg文件解码为RGB的像素网格\n",
    "# 3.将这些像素网格转换为浮点张量\n",
    "# 4.将像素值0-255 缩放到0-1"
   ]
  },
  {
   "cell_type": "code",
   "execution_count": 2,
   "metadata": {},
   "outputs": [
    {
     "name": "stderr",
     "output_type": "stream",
     "text": [
      "Using TensorFlow backend.\n"
     ]
    }
   ],
   "source": [
    "from keras.preprocessing.image import ImageDataGenerator\n",
    "from keras.preprocessing import image\n",
    "import os\n",
    "import numpy as np\n",
    "import matplotlib.pyplot as plt\n",
    "from keras import layers\n",
    "from keras import models"
   ]
  },
  {
   "cell_type": "code",
   "execution_count": 3,
   "metadata": {},
   "outputs": [],
   "source": [
    "# 将所有的图片缩放到 0-1\n",
    "train_datagen = ImageDataGenerator(rescale=1./255)\n",
    "validation_datagen = ImageDataGenerator(rescale=1./255)"
   ]
  },
  {
   "cell_type": "code",
   "execution_count": 4,
   "metadata": {},
   "outputs": [],
   "source": [
    "train_dir = \"./data/dogs-vs-cats/cats_and_dogs_small/train/\"\n",
    "validation_dir = \"./data/dogs-vs-cats/cats_and_dogs_small/validation/\"\n",
    "test_dir = \"./data/dogs-vs-cats/cats_and_dogs_small/test/\""
   ]
  },
  {
   "cell_type": "code",
   "execution_count": 5,
   "metadata": {},
   "outputs": [
    {
     "name": "stdout",
     "output_type": "stream",
     "text": [
      "Found 2000 images belonging to 2 classes.\n",
      "Found 1000 images belonging to 2 classes.\n"
     ]
    }
   ],
   "source": [
    "train_generator = train_datagen.flow_from_directory(train_dir, target_size=(150, 150), batch_size=20, class_mode='binary')\n",
    "validation_generator = validation_datagen.flow_from_directory(validation_dir, target_size=(150, 150), batch_size=20, class_mode='binary')"
   ]
  },
  {
   "cell_type": "code",
   "execution_count": 6,
   "metadata": {},
   "outputs": [],
   "source": [
    "# 构建NN模型"
   ]
  },
  {
   "cell_type": "code",
   "execution_count": 7,
   "metadata": {},
   "outputs": [],
   "source": [
    "model = models.Sequential()"
   ]
  },
  {
   "cell_type": "code",
   "execution_count": 8,
   "metadata": {},
   "outputs": [],
   "source": [
    "model.add(layers.Conv2D(32, (2, 2), input_shape=(150, 150, 3), activation='relu'))"
   ]
  },
  {
   "cell_type": "code",
   "execution_count": 9,
   "metadata": {},
   "outputs": [],
   "source": [
    "model.add(layers.MaxPooling2D((2, 2)))"
   ]
  },
  {
   "cell_type": "code",
   "execution_count": 10,
   "metadata": {},
   "outputs": [],
   "source": [
    "model.add(layers.Conv2D(64, (2, 2), activation='relu'))"
   ]
  },
  {
   "cell_type": "code",
   "execution_count": 11,
   "metadata": {},
   "outputs": [],
   "source": [
    "model.add(layers.MaxPooling2D((2, 2)))"
   ]
  },
  {
   "cell_type": "code",
   "execution_count": 12,
   "metadata": {},
   "outputs": [],
   "source": [
    "model.add(layers.Conv2D(128, (2, 2), activation='relu'))"
   ]
  },
  {
   "cell_type": "code",
   "execution_count": 13,
   "metadata": {},
   "outputs": [],
   "source": [
    "model.add(layers.MaxPooling2D(2, 2))"
   ]
  },
  {
   "cell_type": "code",
   "execution_count": 14,
   "metadata": {},
   "outputs": [],
   "source": [
    "model.add(layers.Conv2D(128, (2, 2), activation='relu'))"
   ]
  },
  {
   "cell_type": "code",
   "execution_count": 15,
   "metadata": {},
   "outputs": [],
   "source": [
    "model.add(layers.MaxPooling2D(2, 2))"
   ]
  },
  {
   "cell_type": "code",
   "execution_count": 16,
   "metadata": {},
   "outputs": [],
   "source": [
    "model.add(layers.Flatten())"
   ]
  },
  {
   "cell_type": "code",
   "execution_count": 17,
   "metadata": {},
   "outputs": [],
   "source": [
    "model.add(layers.Dense(512, activation='relu'))"
   ]
  },
  {
   "cell_type": "code",
   "execution_count": 18,
   "metadata": {},
   "outputs": [],
   "source": [
    "model.add(layers.Dense(1, activation='sigmoid'))"
   ]
  },
  {
   "cell_type": "code",
   "execution_count": 19,
   "metadata": {},
   "outputs": [
    {
     "name": "stdout",
     "output_type": "stream",
     "text": [
      "_________________________________________________________________\n",
      "Layer (type)                 Output Shape              Param #   \n",
      "=================================================================\n",
      "conv2d_1 (Conv2D)            (None, 149, 149, 32)      416       \n",
      "_________________________________________________________________\n",
      "max_pooling2d_1 (MaxPooling2 (None, 74, 74, 32)        0         \n",
      "_________________________________________________________________\n",
      "conv2d_2 (Conv2D)            (None, 73, 73, 64)        8256      \n",
      "_________________________________________________________________\n",
      "max_pooling2d_2 (MaxPooling2 (None, 36, 36, 64)        0         \n",
      "_________________________________________________________________\n",
      "conv2d_3 (Conv2D)            (None, 35, 35, 128)       32896     \n",
      "_________________________________________________________________\n",
      "max_pooling2d_3 (MaxPooling2 (None, 17, 17, 128)       0         \n",
      "_________________________________________________________________\n",
      "conv2d_4 (Conv2D)            (None, 16, 16, 128)       65664     \n",
      "_________________________________________________________________\n",
      "max_pooling2d_4 (MaxPooling2 (None, 8, 8, 128)         0         \n",
      "_________________________________________________________________\n",
      "flatten_1 (Flatten)          (None, 8192)              0         \n",
      "_________________________________________________________________\n",
      "dense_1 (Dense)              (None, 512)               4194816   \n",
      "_________________________________________________________________\n",
      "dense_2 (Dense)              (None, 1)                 513       \n",
      "=================================================================\n",
      "Total params: 4,302,561\n",
      "Trainable params: 4,302,561\n",
      "Non-trainable params: 0\n",
      "_________________________________________________________________\n"
     ]
    }
   ],
   "source": [
    "model.summary()"
   ]
  },
  {
   "cell_type": "code",
   "execution_count": 20,
   "metadata": {},
   "outputs": [],
   "source": [
    "model.compile(loss='binary_crossentropy', optimizer='rmsprop', metrics=['acc'])"
   ]
  },
  {
   "cell_type": "code",
   "execution_count": 21,
   "metadata": {},
   "outputs": [
    {
     "name": "stdout",
     "output_type": "stream",
     "text": [
      "Epoch 1/5\n",
      "100/100 [==============================] - 16s 163ms/step - loss: 0.7320 - acc: 0.5120 - val_loss: 1.1335 - val_acc: 0.3500\n",
      "Epoch 2/5\n",
      "100/100 [==============================] - 7s 73ms/step - loss: 0.6491 - acc: 0.6185 - val_loss: 0.5753 - val_acc: 0.7000\n",
      "Epoch 3/5\n",
      "100/100 [==============================] - 8s 76ms/step - loss: 0.5779 - acc: 0.6990 - val_loss: 0.6107 - val_acc: 0.7500\n",
      "Epoch 4/5\n",
      "100/100 [==============================] - 7s 75ms/step - loss: 0.5282 - acc: 0.7385 - val_loss: 0.7203 - val_acc: 0.6000\n",
      "Epoch 5/5\n",
      "100/100 [==============================] - 7s 75ms/step - loss: 0.4777 - acc: 0.7690 - val_loss: 0.6546 - val_acc: 0.7000\n"
     ]
    }
   ],
   "source": [
    "history = model.fit_generator(train_generator, steps_per_epoch=100, epochs=5, validation_data=validation_generator, validation_steps=1)"
   ]
  },
  {
   "cell_type": "code",
   "execution_count": 23,
   "metadata": {},
   "outputs": [
    {
     "name": "stdout",
     "output_type": "stream",
     "text": [
      "Found 2000 images belonging to 2 classes.\n"
     ]
    }
   ],
   "source": [
    "train_generator = train_datagen.flow_from_directory(\n",
    "    train_dir,\n",
    "    target_size=(150, 150),\n",
    "    batch_size=20,\n",
    "    class_mode='binary'\n",
    ")"
   ]
  },
  {
   "cell_type": "code",
   "execution_count": 24,
   "metadata": {},
   "outputs": [
    {
     "name": "stdout",
     "output_type": "stream",
     "text": [
      "data batch shape: (20, 150, 150, 3)\n",
      "labels batch shape: (20,)\n"
     ]
    }
   ],
   "source": [
    "for data_batch, labels_batch in train_generator:\n",
    "    print(\"data batch shape:\", data_batch.shape)\n",
    "    print(\"labels batch shape:\", labels_batch.shape)\n",
    "    break"
   ]
  },
  {
   "cell_type": "code",
   "execution_count": 25,
   "metadata": {},
   "outputs": [
    {
     "name": "stdout",
     "output_type": "stream",
     "text": [
      "Found 1000 images belonging to 2 classes.\n"
     ]
    }
   ],
   "source": [
    "validation_generator = validation_datagen.flow_from_directory(\n",
    "    validation_dir,\n",
    "    target_size=(150, 150),\n",
    "    batch_size=20,\n",
    "    class_mode='binary'\n",
    ")"
   ]
  },
  {
   "cell_type": "code",
   "execution_count": 27,
   "metadata": {},
   "outputs": [
    {
     "name": "stdout",
     "output_type": "stream",
     "text": [
      "Epoch 1/30\n",
      "100/100 [==============================] - 11s 111ms/step - loss: 0.1970 - acc: 0.9195 - val_loss: 0.9473 - val_acc: 0.7330\n",
      "Epoch 2/30\n",
      "100/100 [==============================] - 10s 103ms/step - loss: 0.1594 - acc: 0.9375 - val_loss: 0.7721 - val_acc: 0.7400\n",
      "Epoch 3/30\n",
      "100/100 [==============================] - 10s 103ms/step - loss: 0.1069 - acc: 0.9590 - val_loss: 1.0667 - val_acc: 0.7150\n",
      "Epoch 4/30\n",
      "100/100 [==============================] - 10s 103ms/step - loss: 0.1093 - acc: 0.9645 - val_loss: 1.4211 - val_acc: 0.7230\n",
      "Epoch 5/30\n",
      "100/100 [==============================] - 10s 103ms/step - loss: 0.0766 - acc: 0.9755 - val_loss: 1.4119 - val_acc: 0.7130\n",
      "Epoch 6/30\n",
      "100/100 [==============================] - 10s 103ms/step - loss: 0.0706 - acc: 0.9810 - val_loss: 1.3164 - val_acc: 0.7490\n",
      "Epoch 7/30\n",
      "100/100 [==============================] - 10s 102ms/step - loss: 0.0495 - acc: 0.9810 - val_loss: 1.9486 - val_acc: 0.7010\n",
      "Epoch 8/30\n",
      "100/100 [==============================] - 10s 103ms/step - loss: 0.0773 - acc: 0.9865 - val_loss: 1.7472 - val_acc: 0.7170\n",
      "Epoch 9/30\n",
      "100/100 [==============================] - 10s 102ms/step - loss: 0.0600 - acc: 0.9845 - val_loss: 1.5795 - val_acc: 0.7580\n",
      "Epoch 10/30\n",
      "100/100 [==============================] - 11s 105ms/step - loss: 0.0615 - acc: 0.9840 - val_loss: 1.5432 - val_acc: 0.7510\n",
      "Epoch 11/30\n",
      "100/100 [==============================] - 10s 103ms/step - loss: 0.0596 - acc: 0.9810 - val_loss: 1.6262 - val_acc: 0.7090\n",
      "Epoch 12/30\n",
      "100/100 [==============================] - 10s 103ms/step - loss: 0.0537 - acc: 0.9905 - val_loss: 1.7497 - val_acc: 0.7420\n",
      "Epoch 13/30\n",
      "100/100 [==============================] - 10s 103ms/step - loss: 0.0854 - acc: 0.9880 - val_loss: 1.7913 - val_acc: 0.7480\n",
      "Epoch 14/30\n",
      "100/100 [==============================] - 10s 102ms/step - loss: 0.0286 - acc: 0.9925 - val_loss: 1.9906 - val_acc: 0.7490\n",
      "Epoch 15/30\n",
      "100/100 [==============================] - 10s 102ms/step - loss: 0.0385 - acc: 0.9900 - val_loss: 1.8889 - val_acc: 0.7390\n",
      "Epoch 16/30\n",
      "100/100 [==============================] - 10s 103ms/step - loss: 0.0541 - acc: 0.9890 - val_loss: 1.9562 - val_acc: 0.7480\n",
      "Epoch 17/30\n",
      "100/100 [==============================] - 10s 103ms/step - loss: 0.0244 - acc: 0.9920 - val_loss: 1.9775 - val_acc: 0.7560\n",
      "Epoch 18/30\n",
      "100/100 [==============================] - 10s 103ms/step - loss: 0.0323 - acc: 0.9925 - val_loss: 2.1509 - val_acc: 0.7250\n",
      "Epoch 19/30\n",
      "100/100 [==============================] - 10s 102ms/step - loss: 0.0330 - acc: 0.9910 - val_loss: 2.0853 - val_acc: 0.7320\n",
      "Epoch 20/30\n",
      "100/100 [==============================] - 10s 103ms/step - loss: 0.0291 - acc: 0.9915 - val_loss: 2.1891 - val_acc: 0.7440\n",
      "Epoch 21/30\n",
      "100/100 [==============================] - 10s 103ms/step - loss: 0.1083 - acc: 0.9840 - val_loss: 2.4011 - val_acc: 0.7240\n",
      "Epoch 22/30\n",
      "100/100 [==============================] - 10s 103ms/step - loss: 0.0191 - acc: 0.9970 - val_loss: 2.1782 - val_acc: 0.7510\n",
      "Epoch 23/30\n",
      "100/100 [==============================] - 10s 102ms/step - loss: 0.0601 - acc: 0.9920 - val_loss: 2.0242 - val_acc: 0.7470\n",
      "Epoch 24/30\n",
      "100/100 [==============================] - 10s 102ms/step - loss: 0.0465 - acc: 0.9915 - val_loss: 1.9966 - val_acc: 0.7530\n",
      "Epoch 25/30\n",
      "100/100 [==============================] - 10s 103ms/step - loss: 0.0131 - acc: 0.9945 - val_loss: 2.0871 - val_acc: 0.7520\n",
      "Epoch 26/30\n",
      "100/100 [==============================] - 10s 102ms/step - loss: 0.0163 - acc: 0.9970 - val_loss: 2.2700 - val_acc: 0.7500\n",
      "Epoch 27/30\n",
      "100/100 [==============================] - 10s 103ms/step - loss: 0.0249 - acc: 0.9945 - val_loss: 2.5650 - val_acc: 0.7510\n",
      "Epoch 28/30\n",
      "100/100 [==============================] - 10s 102ms/step - loss: 0.0235 - acc: 0.9940 - val_loss: 2.3957 - val_acc: 0.7340\n",
      "Epoch 29/30\n",
      "100/100 [==============================] - 10s 104ms/step - loss: 0.0241 - acc: 0.9945 - val_loss: 2.3530 - val_acc: 0.7370\n",
      "Epoch 30/30\n",
      "100/100 [==============================] - 10s 104ms/step - loss: 0.0484 - acc: 0.9945 - val_loss: 2.4370 - val_acc: 0.7580\n"
     ]
    }
   ],
   "source": [
    "# 利用fit_generator对数据进行训练\n",
    "history = model.fit_generator(train_generator, steps_per_epoch=100, epochs=30, validation_data=validation_generator, validation_steps=50)"
   ]
  },
  {
   "cell_type": "code",
   "execution_count": 28,
   "metadata": {},
   "outputs": [
    {
     "name": "stderr",
     "output_type": "stream",
     "text": [
      "No handles with labels found to put in legend.\n",
      "No handles with labels found to put in legend.\n"
     ]
    },
    {
     "data": {
      "text/plain": [
       "<matplotlib.legend.Legend at 0x7f51780c65f8>"
      ]
     },
     "execution_count": 28,
     "metadata": {},
     "output_type": "execute_result"
    },
    {
     "data": {
      "image/png": "[encoded data removed]",
      "text/plain": [
       "<Figure size 432x288 with 1 Axes>"
      ]
     },
     "metadata": {
      "needs_background": "light"
     },
     "output_type": "display_data"
    },
    {
     "data": {
      "image/png": "[encoded data removed]",
      "text/plain": [
       "<Figure size 432x288 with 1 Axes>"
      ]
     },
     "metadata": {
      "needs_background": "light"
     },
     "output_type": "display_data"
    }
   ],
   "source": [
    "# 尚未使用数据增强的训练结果\n",
    "epochs = [i+1 for i in range(30)]\n",
    "acc = history.history[\"acc\"]\n",
    "val_acc = history.history[\"val_acc\"]\n",
    "loss = history.history[\"loss\"]\n",
    "val_loss = history.history[\"val_loss\"]\n",
    "plt.plot(epochs, acc, color='b')\n",
    "plt.plot(epochs, val_acc, color='r')\n",
    "plt.xlabel(\"Epochs\")\n",
    "plt.ylabel(\"ACC\")\n",
    "plt.legend()\n",
    "plt.figure()\n",
    "plt.plot(epochs, loss, color='b')\n",
    "plt.plot(epochs, val_loss, color='r')\n",
    "plt.xlabel(\"Epochs\")\n",
    "plt.ylabel(\"Loss\")\n",
    "plt.legend()"
   ]
  },
  {
   "cell_type": "code",
   "execution_count": 33,
   "metadata": {},
   "outputs": [],
   "source": [
    "# 使用数据增强\n",
    "train_datagen = ImageDataGenerator(\n",
    "    rescale=1./255,\n",
    "    rotation_range=40,\n",
    "    width_shift_range=0.2,\n",
    "    height_shift_range=0.2,\n",
    "    shear_range=0.2,\n",
    "    horizontal_flip=True,\n",
    "    fill_mode='nearest'\n",
    ")\n",
    "# rotation_range 随机旋转角度\n",
    "# width_shift_range 随机水平偏移幅度\n",
    "# height_shift_range 随机竖直偏移的幅度\n",
    "# shear_range 剪切变换程度\n",
    "# horizontal_flip是否进行水平翻转\n",
    "# fill_mode 超出边界的点将根据本参数给定的方法进行处理"
   ]
  },
  {
   "cell_type": "code",
   "execution_count": 34,
   "metadata": {},
   "outputs": [],
   "source": [
    "# 不能对测试数据进行增强\n",
    "test_datagen = ImageDataGenerator(rescale=1./255)"
   ]
  },
  {
   "cell_type": "code",
   "execution_count": 35,
   "metadata": {},
   "outputs": [
    {
     "name": "stdout",
     "output_type": "stream",
     "text": [
      "Found 2000 images belonging to 2 classes.\n",
      "Found 1000 images belonging to 2 classes.\n",
      "Found 1000 images belonging to 2 classes.\n"
     ]
    }
   ],
   "source": [
    "# 对训练集 进行数据增强；对验证集和测试集进行值域缩放\n",
    "train_generator = train_datagen.flow_from_directory(train_dir, batch_size=32, target_size=(150, 150), class_mode='binary')\n",
    "test_generator = test_datagen.flow_from_directory(test_dir, batch_size=32, target_size=(150, 150), class_mode='binary')\n",
    "validation_generator = test_datagen.flow_from_directory(test_dir, batch_size=32, target_size=(150, 150), class_mode='binary')"
   ]
  },
  {
   "cell_type": "code",
   "execution_count": 36,
   "metadata": {},
   "outputs": [],
   "source": [
    "# 对数据增强后的数据重新建模训练：相比之前需要增加Dropout层来进行正则化处理\n",
    "model = models.Sequential()"
   ]
  },
  {
   "cell_type": "code",
   "execution_count": 37,
   "metadata": {},
   "outputs": [],
   "source": [
    "model.add(layers.Conv2D(32, (2, 2), activation='relu', input_shape=(150, 150, 3)))"
   ]
  },
  {
   "cell_type": "code",
   "execution_count": 38,
   "metadata": {},
   "outputs": [],
   "source": [
    "model.add(layers.MaxPooling2D((2, 2)))"
   ]
  },
  {
   "cell_type": "code",
   "execution_count": 39,
   "metadata": {},
   "outputs": [],
   "source": [
    "model.add(layers.Conv2D(64, (3, 3), activation='relu'))"
   ]
  },
  {
   "cell_type": "code",
   "execution_count": 40,
   "metadata": {},
   "outputs": [],
   "source": [
    "model.add(layers.MaxPooling2D((2, 2)))"
   ]
  },
  {
   "cell_type": "code",
   "execution_count": 42,
   "metadata": {},
   "outputs": [],
   "source": [
    "model.add(layers.Conv2D(128, (3, 3), activation='relu'))"
   ]
  },
  {
   "cell_type": "code",
   "execution_count": 43,
   "metadata": {},
   "outputs": [],
   "source": [
    "model.add(layers.MaxPooling2D((2, 2)))"
   ]
  },
  {
   "cell_type": "code",
   "execution_count": 44,
   "metadata": {},
   "outputs": [],
   "source": [
    "model.add(layers.Conv2D(128, (3, 3), activation='relu'))"
   ]
  },
  {
   "cell_type": "code",
   "execution_count": 45,
   "metadata": {},
   "outputs": [],
   "source": [
    "model.add(layers.MaxPooling2D((2, 2)))"
   ]
  },
  {
   "cell_type": "code",
   "execution_count": 46,
   "metadata": {},
   "outputs": [],
   "source": [
    "model.add(layers.Flatten())"
   ]
  },
  {
   "cell_type": "code",
   "execution_count": 47,
   "metadata": {},
   "outputs": [],
   "source": [
    "model.add(layers.Dropout(0.5))"
   ]
  },
  {
   "cell_type": "code",
   "execution_count": 48,
   "metadata": {},
   "outputs": [],
   "source": [
    "model.add(layers.Dense(512, activation='relu'))"
   ]
  },
  {
   "cell_type": "code",
   "execution_count": 49,
   "metadata": {},
   "outputs": [],
   "source": [
    "model.add(layers.Dense(1, activation='sigmoid'))"
   ]
  },
  {
   "cell_type": "code",
   "execution_count": 50,
   "metadata": {},
   "outputs": [
    {
     "name": "stdout",
     "output_type": "stream",
     "text": [
      "_________________________________________________________________\n",
      "Layer (type)                 Output Shape              Param #   \n",
      "=================================================================\n",
      "conv2d_5 (Conv2D)            (None, 149, 149, 32)      416       \n",
      "_________________________________________________________________\n",
      "max_pooling2d_5 (MaxPooling2 (None, 74, 74, 32)        0         \n",
      "_________________________________________________________________\n",
      "conv2d_6 (Conv2D)            (None, 72, 72, 64)        18496     \n",
      "_________________________________________________________________\n",
      "max_pooling2d_6 (MaxPooling2 (None, 36, 36, 64)        0         \n",
      "_________________________________________________________________\n",
      "conv2d_7 (Conv2D)            (None, 34, 34, 128)       73856     \n",
      "_________________________________________________________________\n",
      "max_pooling2d_7 (MaxPooling2 (None, 17, 17, 128)       0         \n",
      "_________________________________________________________________\n",
      "conv2d_8 (Conv2D)            (None, 15, 15, 128)       147584    \n",
      "_________________________________________________________________\n",
      "max_pooling2d_8 (MaxPooling2 (None, 7, 7, 128)         0         \n",
      "_________________________________________________________________\n",
      "flatten_2 (Flatten)          (None, 6272)              0         \n",
      "_________________________________________________________________\n",
      "dropout_1 (Dropout)          (None, 6272)              0         \n",
      "_________________________________________________________________\n",
      "dense_3 (Dense)              (None, 512)               3211776   \n",
      "_________________________________________________________________\n",
      "dense_4 (Dense)              (None, 1)                 513       \n",
      "=================================================================\n",
      "Total params: 3,452,641\n",
      "Trainable params: 3,452,641\n",
      "Non-trainable params: 0\n",
      "_________________________________________________________________\n"
     ]
    }
   ],
   "source": [
    "model.summary()"
   ]
  },
  {
   "cell_type": "code",
   "execution_count": 51,
   "metadata": {},
   "outputs": [],
   "source": [
    "model.compile(metrics=['acc'], optimizer='rmsprop', loss='binary_crossentropy')"
   ]
  },
  {
   "cell_type": "code",
   "execution_count": 53,
   "metadata": {},
   "outputs": [
    {
     "name": "stdout",
     "output_type": "stream",
     "text": [
      "Epoch 1/100\n",
      "100/100 [==============================] - 29s 286ms/step - loss: 0.7261 - acc: 0.5031 - val_loss: 0.6909 - val_acc: 0.5000\n",
      "Epoch 2/100\n",
      "100/100 [==============================] - 25s 254ms/step - loss: 0.6953 - acc: 0.5600 - val_loss: 0.6732 - val_acc: 0.5495\n",
      "Epoch 3/100\n",
      "100/100 [==============================] - 25s 254ms/step - loss: 0.6848 - acc: 0.5603 - val_loss: 0.6376 - val_acc: 0.6390\n",
      "Epoch 4/100\n",
      "100/100 [==============================] - 25s 254ms/step - loss: 0.6548 - acc: 0.6353 - val_loss: 0.6186 - val_acc: 0.6707\n",
      "Epoch 5/100\n",
      "100/100 [==============================] - 25s 253ms/step - loss: 0.6257 - acc: 0.6413 - val_loss: 0.6058 - val_acc: 0.6472\n",
      "Epoch 6/100\n",
      "100/100 [==============================] - 27s 269ms/step - loss: 0.6096 - acc: 0.6775 - val_loss: 0.6634 - val_acc: 0.6440\n",
      "Epoch 7/100\n",
      "100/100 [==============================] - 26s 255ms/step - loss: 0.6026 - acc: 0.6716 - val_loss: 0.5857 - val_acc: 0.7069\n",
      "Epoch 8/100\n",
      "100/100 [==============================] - 25s 253ms/step - loss: 0.5968 - acc: 0.6834 - val_loss: 0.5850 - val_acc: 0.6758\n",
      "Epoch 9/100\n",
      "100/100 [==============================] - 25s 254ms/step - loss: 0.5741 - acc: 0.6922 - val_loss: 0.6098 - val_acc: 0.7170\n",
      "Epoch 10/100\n",
      "100/100 [==============================] - 25s 254ms/step - loss: 0.5651 - acc: 0.7200 - val_loss: 0.5764 - val_acc: 0.7195\n",
      "Epoch 11/100\n",
      "100/100 [==============================] - 26s 262ms/step - loss: 0.5618 - acc: 0.7191 - val_loss: 0.6369 - val_acc: 0.7018\n",
      "Epoch 12/100\n",
      "100/100 [==============================] - 25s 255ms/step - loss: 0.5477 - acc: 0.7206 - val_loss: 0.5349 - val_acc: 0.7392\n",
      "Epoch 13/100\n",
      "100/100 [==============================] - 25s 255ms/step - loss: 0.5337 - acc: 0.7372 - val_loss: 0.5740 - val_acc: 0.7335\n",
      "Epoch 14/100\n",
      "100/100 [==============================] - 25s 254ms/step - loss: 0.5200 - acc: 0.7491 - val_loss: 0.5636 - val_acc: 0.7145\n",
      "Epoch 15/100\n",
      "100/100 [==============================] - 25s 255ms/step - loss: 0.5224 - acc: 0.7434 - val_loss: 0.6491 - val_acc: 0.7278\n",
      "Epoch 16/100\n",
      "100/100 [==============================] - 26s 256ms/step - loss: 0.5165 - acc: 0.7444 - val_loss: 0.4872 - val_acc: 0.7652\n",
      "Epoch 17/100\n",
      "100/100 [==============================] - 25s 253ms/step - loss: 0.5073 - acc: 0.7494 - val_loss: 0.4817 - val_acc: 0.7817\n",
      "Epoch 18/100\n",
      "100/100 [==============================] - 28s 276ms/step - loss: 0.4861 - acc: 0.7731 - val_loss: 0.6144 - val_acc: 0.7189\n",
      "Epoch 19/100\n",
      "100/100 [==============================] - 25s 254ms/step - loss: 0.4921 - acc: 0.7712 - val_loss: 0.4907 - val_acc: 0.7779\n",
      "Epoch 20/100\n",
      "100/100 [==============================] - 25s 253ms/step - loss: 0.4887 - acc: 0.7728 - val_loss: 0.4861 - val_acc: 0.7843\n",
      "Epoch 21/100\n",
      "100/100 [==============================] - 25s 254ms/step - loss: 0.4729 - acc: 0.7781 - val_loss: 0.4974 - val_acc: 0.7697\n",
      "Epoch 22/100\n",
      "100/100 [==============================] - 25s 254ms/step - loss: 0.4712 - acc: 0.7891 - val_loss: 1.2576 - val_acc: 0.5863\n",
      "Epoch 23/100\n",
      "100/100 [==============================] - 27s 267ms/step - loss: 0.4704 - acc: 0.7834 - val_loss: 0.4824 - val_acc: 0.7595\n",
      "Epoch 24/100\n",
      "100/100 [==============================] - 26s 256ms/step - loss: 0.4571 - acc: 0.7903 - val_loss: 0.4901 - val_acc: 0.7963\n",
      "Epoch 25/100\n",
      "100/100 [==============================] - 25s 254ms/step - loss: 0.4623 - acc: 0.7800 - val_loss: 0.6015 - val_acc: 0.7525\n",
      "Epoch 26/100\n",
      "100/100 [==============================] - 26s 255ms/step - loss: 0.4479 - acc: 0.7994 - val_loss: 0.4763 - val_acc: 0.7976\n",
      "Epoch 27/100\n",
      "100/100 [==============================] - 25s 253ms/step - loss: 0.4337 - acc: 0.7931 - val_loss: 0.4872 - val_acc: 0.7437\n",
      "Epoch 28/100\n",
      "100/100 [==============================] - 26s 260ms/step - loss: 0.4413 - acc: 0.7997 - val_loss: 0.4676 - val_acc: 0.8084\n",
      "Epoch 29/100\n",
      "100/100 [==============================] - 26s 256ms/step - loss: 0.4189 - acc: 0.8122 - val_loss: 0.5122 - val_acc: 0.8052\n",
      "Epoch 30/100\n",
      "100/100 [==============================] - 26s 256ms/step - loss: 0.4197 - acc: 0.8137 - val_loss: 0.5314 - val_acc: 0.7525\n",
      "Epoch 31/100\n",
      "100/100 [==============================] - 25s 252ms/step - loss: 0.4171 - acc: 0.8188 - val_loss: 0.5842 - val_acc: 0.8084\n",
      "Epoch 32/100\n",
      "100/100 [==============================] - 25s 253ms/step - loss: 0.4259 - acc: 0.8113 - val_loss: 0.5066 - val_acc: 0.7906\n",
      "Epoch 33/100\n",
      "100/100 [==============================] - 25s 255ms/step - loss: 0.4144 - acc: 0.8119 - val_loss: 0.4600 - val_acc: 0.7849\n",
      "Epoch 34/100\n",
      "100/100 [==============================] - 25s 253ms/step - loss: 0.4160 - acc: 0.8128 - val_loss: 0.5482 - val_acc: 0.7779\n",
      "Epoch 35/100\n",
      "100/100 [==============================] - 27s 274ms/step - loss: 0.3958 - acc: 0.8306 - val_loss: 0.4512 - val_acc: 0.8071\n",
      "Epoch 36/100\n",
      "100/100 [==============================] - 25s 255ms/step - loss: 0.3968 - acc: 0.8178 - val_loss: 0.4324 - val_acc: 0.8090\n",
      "Epoch 37/100\n",
      "100/100 [==============================] - 26s 255ms/step - loss: 0.3959 - acc: 0.8244 - val_loss: 0.4799 - val_acc: 0.8027\n",
      "Epoch 38/100\n",
      "100/100 [==============================] - 26s 255ms/step - loss: 0.3942 - acc: 0.8256 - val_loss: 0.5146 - val_acc: 0.7728\n",
      "Epoch 39/100\n",
      "100/100 [==============================] - 25s 253ms/step - loss: 0.3994 - acc: 0.8281 - val_loss: 0.5397 - val_acc: 0.8192\n",
      "Epoch 40/100\n",
      "100/100 [==============================] - 27s 267ms/step - loss: 0.3916 - acc: 0.8303 - val_loss: 0.4536 - val_acc: 0.8236\n",
      "Epoch 41/100\n",
      "100/100 [==============================] - 25s 254ms/step - loss: 0.3832 - acc: 0.8341 - val_loss: 0.4772 - val_acc: 0.8325\n",
      "Epoch 42/100\n",
      "100/100 [==============================] - 25s 253ms/step - loss: 0.3903 - acc: 0.8281 - val_loss: 0.4466 - val_acc: 0.8299\n",
      "Epoch 43/100\n",
      "100/100 [==============================] - 26s 255ms/step - loss: 0.3782 - acc: 0.8391 - val_loss: 0.4933 - val_acc: 0.8065\n",
      "Epoch 44/100\n",
      "100/100 [==============================] - 25s 253ms/step - loss: 0.3572 - acc: 0.8425 - val_loss: 0.5794 - val_acc: 0.8008\n",
      "Epoch 45/100\n",
      "100/100 [==============================] - 26s 258ms/step - loss: 0.3643 - acc: 0.8450 - val_loss: 0.4976 - val_acc: 0.8325\n",
      "Epoch 46/100\n",
      "100/100 [==============================] - 26s 255ms/step - loss: 0.3798 - acc: 0.8391 - val_loss: 0.4828 - val_acc: 0.8135\n",
      "Epoch 47/100\n",
      "100/100 [==============================] - 25s 253ms/step - loss: 0.3726 - acc: 0.8381 - val_loss: 0.5986 - val_acc: 0.8192\n",
      "Epoch 48/100\n",
      "100/100 [==============================] - 26s 255ms/step - loss: 0.3526 - acc: 0.8484 - val_loss: 0.5778 - val_acc: 0.8185\n",
      "Epoch 49/100\n",
      "100/100 [==============================] - 25s 254ms/step - loss: 0.3535 - acc: 0.8522 - val_loss: 0.4611 - val_acc: 0.8230\n",
      "Epoch 50/100\n",
      "100/100 [==============================] - 25s 254ms/step - loss: 0.3604 - acc: 0.8503 - val_loss: 0.3921 - val_acc: 0.8179\n",
      "Epoch 51/100\n",
      "100/100 [==============================] - 25s 251ms/step - loss: 0.3551 - acc: 0.8500 - val_loss: 0.5362 - val_acc: 0.8306\n",
      "Epoch 52/100\n",
      "100/100 [==============================] - 27s 273ms/step - loss: 0.3548 - acc: 0.8519 - val_loss: 0.4638 - val_acc: 0.7944\n",
      "Epoch 53/100\n",
      "100/100 [==============================] - 26s 255ms/step - loss: 0.3733 - acc: 0.8438 - val_loss: 0.5688 - val_acc: 0.8388\n",
      "Epoch 54/100\n",
      "100/100 [==============================] - 25s 252ms/step - loss: 0.3482 - acc: 0.8484 - val_loss: 0.5006 - val_acc: 0.8211\n",
      "Epoch 55/100\n",
      "100/100 [==============================] - 25s 254ms/step - loss: 0.3594 - acc: 0.8488 - val_loss: 0.7725 - val_acc: 0.8160\n",
      "Epoch 56/100\n",
      "100/100 [==============================] - 25s 253ms/step - loss: 0.3644 - acc: 0.8500 - val_loss: 0.4721 - val_acc: 0.8312\n",
      "Epoch 57/100\n",
      "100/100 [==============================] - 26s 264ms/step - loss: 0.3577 - acc: 0.8516 - val_loss: 0.5209 - val_acc: 0.8223\n",
      "Epoch 58/100\n",
      "100/100 [==============================] - 25s 255ms/step - loss: 0.3451 - acc: 0.8509 - val_loss: 0.6267 - val_acc: 0.8103\n",
      "Epoch 59/100\n",
      "100/100 [==============================] - 26s 256ms/step - loss: 0.3517 - acc: 0.8519 - val_loss: 0.7908 - val_acc: 0.8185\n",
      "Epoch 60/100\n",
      "100/100 [==============================] - 25s 253ms/step - loss: 0.3637 - acc: 0.8531 - val_loss: 0.5415 - val_acc: 0.8255\n"
     ]
    },
    {
     "name": "stdout",
     "output_type": "stream",
     "text": [
      "Epoch 61/100\n",
      "100/100 [==============================] - 25s 255ms/step - loss: 0.3441 - acc: 0.8562 - val_loss: 0.5801 - val_acc: 0.8230\n",
      "Epoch 62/100\n",
      "100/100 [==============================] - 25s 255ms/step - loss: 0.3571 - acc: 0.8497 - val_loss: 0.4845 - val_acc: 0.8090\n",
      "Epoch 63/100\n",
      "100/100 [==============================] - 25s 253ms/step - loss: 0.3581 - acc: 0.8434 - val_loss: 0.6110 - val_acc: 0.8096\n",
      "Epoch 64/100\n",
      "100/100 [==============================] - 25s 252ms/step - loss: 0.3282 - acc: 0.8637 - val_loss: 1.2587 - val_acc: 0.7728\n",
      "Epoch 65/100\n",
      "100/100 [==============================] - 25s 254ms/step - loss: 0.3594 - acc: 0.8516 - val_loss: 0.5051 - val_acc: 0.7900\n",
      "Epoch 66/100\n",
      "100/100 [==============================] - 25s 255ms/step - loss: 0.3499 - acc: 0.8513 - val_loss: 0.7210 - val_acc: 0.8154\n",
      "Epoch 67/100\n",
      "100/100 [==============================] - 26s 255ms/step - loss: 0.3513 - acc: 0.8535 - val_loss: 0.4938 - val_acc: 0.8179\n",
      "Epoch 68/100\n",
      "100/100 [==============================] - 25s 252ms/step - loss: 0.3417 - acc: 0.8709 - val_loss: 0.5297 - val_acc: 0.8319\n",
      "Epoch 69/100\n",
      "100/100 [==============================] - 27s 271ms/step - loss: 0.3383 - acc: 0.8609 - val_loss: 0.7977 - val_acc: 0.7792\n",
      "Epoch 70/100\n",
      "100/100 [==============================] - 25s 254ms/step - loss: 0.3388 - acc: 0.8647 - val_loss: 0.5819 - val_acc: 0.8096\n",
      "Epoch 71/100\n",
      "100/100 [==============================] - 25s 252ms/step - loss: 0.3348 - acc: 0.8666 - val_loss: 0.5262 - val_acc: 0.7766\n",
      "Epoch 72/100\n",
      "100/100 [==============================] - 25s 254ms/step - loss: 0.3279 - acc: 0.8672 - val_loss: 0.5680 - val_acc: 0.8369\n",
      "Epoch 73/100\n",
      "100/100 [==============================] - 25s 254ms/step - loss: 0.3473 - acc: 0.8553 - val_loss: 0.4344 - val_acc: 0.8293\n",
      "Epoch 74/100\n",
      "100/100 [==============================] - 26s 261ms/step - loss: 0.3562 - acc: 0.8622 - val_loss: 0.4414 - val_acc: 0.8179\n",
      "Epoch 75/100\n",
      "100/100 [==============================] - 25s 254ms/step - loss: 0.3408 - acc: 0.8572 - val_loss: 0.5615 - val_acc: 0.8255\n",
      "Epoch 76/100\n",
      "100/100 [==============================] - 25s 252ms/step - loss: 0.3271 - acc: 0.8650 - val_loss: 0.6205 - val_acc: 0.8350\n",
      "Epoch 77/100\n",
      "100/100 [==============================] - 25s 254ms/step - loss: 0.3316 - acc: 0.8634 - val_loss: 0.4120 - val_acc: 0.8471\n",
      "Epoch 78/100\n",
      "100/100 [==============================] - 25s 253ms/step - loss: 0.3425 - acc: 0.8575 - val_loss: 0.4735 - val_acc: 0.8344\n",
      "Epoch 79/100\n",
      "100/100 [==============================] - 26s 255ms/step - loss: 0.3412 - acc: 0.8550 - val_loss: 0.4597 - val_acc: 0.8338\n",
      "Epoch 80/100\n",
      "100/100 [==============================] - 25s 252ms/step - loss: 0.3279 - acc: 0.8594 - val_loss: 0.4613 - val_acc: 0.8261\n",
      "Epoch 81/100\n",
      "100/100 [==============================] - 27s 275ms/step - loss: 0.3371 - acc: 0.8678 - val_loss: 0.4270 - val_acc: 0.8414\n",
      "Epoch 82/100\n",
      "100/100 [==============================] - 25s 255ms/step - loss: 0.3224 - acc: 0.8681 - val_loss: 0.5742 - val_acc: 0.8420\n",
      "Epoch 83/100\n",
      "100/100 [==============================] - 25s 254ms/step - loss: 0.3485 - acc: 0.8588 - val_loss: 0.6838 - val_acc: 0.7830\n",
      "Epoch 84/100\n",
      "100/100 [==============================] - 25s 255ms/step - loss: 0.3264 - acc: 0.8612 - val_loss: 0.8371 - val_acc: 0.8236\n",
      "Epoch 85/100\n",
      "100/100 [==============================] - 25s 254ms/step - loss: 0.3510 - acc: 0.8616 - val_loss: 0.5044 - val_acc: 0.8255\n",
      "Epoch 86/100\n",
      "100/100 [==============================] - 27s 267ms/step - loss: 0.3361 - acc: 0.8634 - val_loss: 0.5647 - val_acc: 0.8223\n",
      "Epoch 87/100\n",
      "100/100 [==============================] - 26s 255ms/step - loss: 0.3246 - acc: 0.8716 - val_loss: 0.5757 - val_acc: 0.8065\n",
      "Epoch 88/100\n",
      "100/100 [==============================] - 25s 254ms/step - loss: 0.3301 - acc: 0.8637 - val_loss: 0.6843 - val_acc: 0.8369\n",
      "Epoch 89/100\n",
      "100/100 [==============================] - 25s 255ms/step - loss: 0.3177 - acc: 0.8750 - val_loss: 0.8169 - val_acc: 0.7862\n",
      "Epoch 90/100\n",
      "100/100 [==============================] - 25s 254ms/step - loss: 0.3314 - acc: 0.8713 - val_loss: 0.5909 - val_acc: 0.8103\n",
      "Epoch 91/100\n",
      "100/100 [==============================] - 26s 260ms/step - loss: 0.3504 - acc: 0.8575 - val_loss: 0.4576 - val_acc: 0.8388\n",
      "Epoch 92/100\n",
      "100/100 [==============================] - 25s 255ms/step - loss: 0.3377 - acc: 0.8697 - val_loss: 0.5047 - val_acc: 0.8407\n",
      "Epoch 93/100\n",
      "100/100 [==============================] - 25s 253ms/step - loss: 0.3360 - acc: 0.8572 - val_loss: 0.8094 - val_acc: 0.8261\n",
      "Epoch 94/100\n",
      "100/100 [==============================] - 25s 254ms/step - loss: 0.3272 - acc: 0.8703 - val_loss: 0.4595 - val_acc: 0.8382\n",
      "Epoch 95/100\n",
      "100/100 [==============================] - 25s 253ms/step - loss: 0.3483 - acc: 0.8650 - val_loss: 0.7831 - val_acc: 0.8046\n",
      "Epoch 96/100\n",
      "100/100 [==============================] - 26s 256ms/step - loss: 0.3343 - acc: 0.8687 - val_loss: 0.6233 - val_acc: 0.8179\n",
      "Epoch 97/100\n",
      "100/100 [==============================] - 25s 251ms/step - loss: 0.3503 - acc: 0.8634 - val_loss: 0.6790 - val_acc: 0.7881\n",
      "Epoch 98/100\n",
      "100/100 [==============================] - 27s 274ms/step - loss: 0.3237 - acc: 0.8713 - val_loss: 0.8393 - val_acc: 0.7919\n",
      "Epoch 99/100\n",
      "100/100 [==============================] - 25s 255ms/step - loss: 0.3448 - acc: 0.8662 - val_loss: 0.5035 - val_acc: 0.8135\n",
      "Epoch 100/100\n",
      "100/100 [==============================] - 25s 255ms/step - loss: 0.3299 - acc: 0.8647 - val_loss: 0.5803 - val_acc: 0.8319\n"
     ]
    }
   ],
   "source": [
    "history = model.fit_generator(train_generator, steps_per_epoch=100, epochs=100, validation_data=validation_generator, validation_steps=50)"
   ]
  },
  {
   "cell_type": "code",
   "execution_count": null,
   "metadata": {},
   "outputs": [],
   "source": []
  }
 ],
 "metadata": {
  "kernelspec": {
   "display_name": "Python 3",
   "language": "python",
   "name": "python3"
  },
  "language_info": {
   "codemirror_mode": {
    "name": "ipython",
    "version": 3
   },
   "file_extension": ".py",
   "mimetype": "text/x-python",
   "name": "python",
   "nbconvert_exporter": "python",
   "pygments_lexer": "ipython3",
   "version": "3.6.1"
  }
 },
 "nbformat": 4,
 "nbformat_minor": 2
}
