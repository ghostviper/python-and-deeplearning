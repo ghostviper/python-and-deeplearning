{
 "cells": [
  {
   "cell_type": "code",
   "execution_count": 8,
   "metadata": {},
   "outputs": [],
   "source": [
    "from keras.datasets import boston_housing\n",
    "import numpy as np"
   ]
  },
  {
   "cell_type": "code",
   "execution_count": 2,
   "metadata": {},
   "outputs": [
    {
     "name": "stdout",
     "output_type": "stream",
     "text": [
      "Downloading data from https://s3.amazonaws.com/keras-datasets/boston_housing.npz\n",
      "57344/57026 [==============================] - 1s 9us/step\n"
     ]
    }
   ],
   "source": [
    "(train_data, train_labels), (test_data, test_labels) = boston_housing.load_data()"
   ]
  },
  {
   "cell_type": "code",
   "execution_count": 3,
   "metadata": {},
   "outputs": [
    {
     "data": {
      "text/plain": [
       "((404, 13), (102, 13))"
      ]
     },
     "execution_count": 3,
     "metadata": {},
     "output_type": "execute_result"
    }
   ],
   "source": [
    "train_data.shape, test_data.shape"
   ]
  },
  {
   "cell_type": "code",
   "execution_count": 6,
   "metadata": {},
   "outputs": [
    {
     "data": {
      "text/plain": [
       "((404,), (102,))"
      ]
     },
     "execution_count": 6,
     "metadata": {},
     "output_type": "execute_result"
    }
   ],
   "source": [
    "train_labels.shape, test_labels.shape"
   ]
  },
  {
   "cell_type": "code",
   "execution_count": 17,
   "metadata": {},
   "outputs": [],
   "source": [
    "standard_value = (train_data - np.mean(train_data, axis=0)) / np.std(train_data, axis=0)"
   ]
  },
  {
   "cell_type": "code",
   "execution_count": 20,
   "metadata": {},
   "outputs": [
    {
     "data": {
      "text/plain": [
       "(0.9999999999999993, 2.6016254395785847e-15)"
      ]
     },
     "execution_count": 20,
     "metadata": {},
     "output_type": "execute_result"
    }
   ],
   "source": [
    "np.std(standard_value), np.mean(standard_value)"
   ]
  },
  {
   "cell_type": "code",
   "execution_count": 21,
   "metadata": {},
   "outputs": [
    {
     "data": {
      "text/plain": [
       "array([[-0.27224633, -0.48361547, -0.43576161, ...,  1.14850044,\n",
       "         0.44807713,  0.8252202 ],\n",
       "       [-0.40342651,  2.99178419, -1.33391162, ..., -1.71818909,\n",
       "         0.43190599, -1.32920239],\n",
       "       [ 0.1249402 , -0.48361547,  1.0283258 , ...,  0.78447637,\n",
       "         0.22061726, -1.30850006],\n",
       "       ...,\n",
       "       [-0.40202987,  0.99079651, -0.7415148 , ..., -0.71712291,\n",
       "         0.07943894, -0.67776904],\n",
       "       [-0.17292018, -0.48361547,  1.24588095, ..., -1.71818909,\n",
       "        -0.98764362,  0.42083466],\n",
       "       [-0.40422614,  2.04394792, -1.20161456, ..., -1.30866202,\n",
       "         0.23317118, -1.15392266]])"
      ]
     },
     "execution_count": 21,
     "metadata": {},
     "output_type": "execute_result"
    }
   ],
   "source": [
    "standard_value"
   ]
  },
  {
   "cell_type": "code",
   "execution_count": 22,
   "metadata": {},
   "outputs": [],
   "source": [
    "# 归一化 （normalization）： （Xi -Xmin） / （Xmax - Xmin）\n",
    "# 标准化 （standardization） （Xi - u） / theta\n",
    "# tips 对输出结果有范围要求用归一化\n",
    "#      数据较为稳定，不存在极端最大最小值用归一化\n",
    "#      数据存在异常值和较多噪音 用标准化\n",
    "\n",
    "#归一化：输出范围0-1之间\n",
    "#标准化：输出范围负无穷到正无穷"
   ]
  },
  {
   "cell_type": "code",
   "execution_count": 26,
   "metadata": {},
   "outputs": [
    {
     "data": {
      "text/plain": [
       "(array([6.3200e-03, 0.0000e+00, 4.6000e-01, 0.0000e+00, 3.8500e-01,\n",
       "        3.5610e+00, 2.9000e+00, 1.1296e+00, 1.0000e+00, 1.8800e+02,\n",
       "        1.2600e+01, 3.2000e-01, 1.7300e+00]),\n",
       " array([ 88.9762, 100.    ,  27.74  ,   1.    ,   0.871 ,   8.725 ,\n",
       "        100.    ,  10.7103,  24.    , 711.    ,  22.    , 396.9   ,\n",
       "         37.97  ]))"
      ]
     },
     "execution_count": 26,
     "metadata": {},
     "output_type": "execute_result"
    }
   ],
   "source": [
    "np.min(train_data, axis=0), np.max(train_data, axis=0)\n",
    "# 可以看出 特征的最小和最大值 范围相差很大，需要用标准化处理"
   ]
  },
  {
   "cell_type": "code",
   "execution_count": 27,
   "metadata": {},
   "outputs": [],
   "source": [
    "# 标准化数据需要在训练集上进行计算"
   ]
  },
  {
   "cell_type": "code",
   "execution_count": 28,
   "metadata": {},
   "outputs": [],
   "source": [
    "from keras import models\n",
    "from keras import layers"
   ]
  },
  {
   "cell_type": "code",
   "execution_count": 34,
   "metadata": {},
   "outputs": [],
   "source": [
    "model = models.Sequential()\n",
    "model.add(layers.Dense(64, activation='relu', input_shape=(train_data.shape[1], )))"
   ]
  },
  {
   "cell_type": "code",
   "execution_count": 35,
   "metadata": {},
   "outputs": [],
   "source": [
    "model.add(layers.Dense(64, activation='relu'))"
   ]
  },
  {
   "cell_type": "code",
   "execution_count": 36,
   "metadata": {},
   "outputs": [],
   "source": [
    "model.add(layers.Dense(1))"
   ]
  },
  {
   "cell_type": "code",
   "execution_count": 37,
   "metadata": {},
   "outputs": [],
   "source": [
    "model.compile(loss='mse', optimizer='rmsprop', metrics=['mae'])"
   ]
  },
  {
   "cell_type": "code",
   "execution_count": 53,
   "metadata": {},
   "outputs": [
    {
     "name": "stdout",
     "output_type": "stream",
     "text": [
      "Epoch 1/30\n",
      "404/404 [==============================] - 0s 27us/step - loss: 13.7636 - mean_absolute_error: 2.6410\n",
      "Epoch 2/30\n",
      "404/404 [==============================] - 0s 27us/step - loss: 13.2575 - mean_absolute_error: 2.5437\n",
      "Epoch 3/30\n",
      "404/404 [==============================] - 0s 22us/step - loss: 12.9831 - mean_absolute_error: 2.5655\n",
      "Epoch 4/30\n",
      "404/404 [==============================] - 0s 30us/step - loss: 12.6231 - mean_absolute_error: 2.5037\n",
      "Epoch 5/30\n",
      "404/404 [==============================] - 0s 35us/step - loss: 12.0349 - mean_absolute_error: 2.4074\n",
      "Epoch 6/30\n",
      "404/404 [==============================] - 0s 30us/step - loss: 12.2629 - mean_absolute_error: 2.4610\n",
      "Epoch 7/30\n",
      "404/404 [==============================] - 0s 35us/step - loss: 11.6209 - mean_absolute_error: 2.4160\n",
      "Epoch 8/30\n",
      "404/404 [==============================] - 0s 27us/step - loss: 11.5238 - mean_absolute_error: 2.3711\n",
      "Epoch 9/30\n",
      "404/404 [==============================] - 0s 45us/step - loss: 11.6163 - mean_absolute_error: 2.4043\n",
      "Epoch 10/30\n",
      "404/404 [==============================] - 0s 22us/step - loss: 11.0340 - mean_absolute_error: 2.3197\n",
      "Epoch 11/30\n",
      "404/404 [==============================] - 0s 30us/step - loss: 10.8545 - mean_absolute_error: 2.3109\n",
      "Epoch 12/30\n",
      "404/404 [==============================] - 0s 42us/step - loss: 10.6140 - mean_absolute_error: 2.2709\n",
      "Epoch 13/30\n",
      "404/404 [==============================] - 0s 27us/step - loss: 10.5262 - mean_absolute_error: 2.2989\n",
      "Epoch 14/30\n",
      "404/404 [==============================] - 0s 32us/step - loss: 10.3172 - mean_absolute_error: 2.2727\n",
      "Epoch 15/30\n",
      "404/404 [==============================] - 0s 32us/step - loss: 10.3842 - mean_absolute_error: 2.2553\n",
      "Epoch 16/30\n",
      "404/404 [==============================] - 0s 33us/step - loss: 10.2060 - mean_absolute_error: 2.2760\n",
      "Epoch 17/30\n",
      "404/404 [==============================] - 0s 45us/step - loss: 9.9170 - mean_absolute_error: 2.2188\n",
      "Epoch 18/30\n",
      "404/404 [==============================] - 0s 25us/step - loss: 9.9278 - mean_absolute_error: 2.2022\n",
      "Epoch 19/30\n",
      "404/404 [==============================] - 0s 20us/step - loss: 9.7479 - mean_absolute_error: 2.2143\n",
      "Epoch 20/30\n",
      "404/404 [==============================] - 0s 27us/step - loss: 9.5504 - mean_absolute_error: 2.1673\n",
      "Epoch 21/30\n",
      "404/404 [==============================] - 0s 30us/step - loss: 9.3748 - mean_absolute_error: 2.1566\n",
      "Epoch 22/30\n",
      "404/404 [==============================] - 0s 27us/step - loss: 9.4132 - mean_absolute_error: 2.1283\n",
      "Epoch 23/30\n",
      "404/404 [==============================] - 0s 20us/step - loss: 9.3212 - mean_absolute_error: 2.1372\n",
      "Epoch 24/30\n",
      "404/404 [==============================] - 0s 22us/step - loss: 9.1632 - mean_absolute_error: 2.1077\n",
      "Epoch 25/30\n",
      "404/404 [==============================] - 0s 20us/step - loss: 9.1880 - mean_absolute_error: 2.1076\n",
      "Epoch 26/30\n",
      "404/404 [==============================] - 0s 32us/step - loss: 9.0629 - mean_absolute_error: 2.1216\n",
      "Epoch 27/30\n",
      "404/404 [==============================] - 0s 22us/step - loss: 9.2206 - mean_absolute_error: 2.1087\n",
      "Epoch 28/30\n",
      "404/404 [==============================] - 0s 30us/step - loss: 9.1445 - mean_absolute_error: 2.1568\n",
      "Epoch 29/30\n",
      "404/404 [==============================] - 0s 17us/step - loss: 8.8066 - mean_absolute_error: 2.0615\n",
      "Epoch 30/30\n",
      "404/404 [==============================] - 0s 25us/step - loss: 8.6364 - mean_absolute_error: 2.0503\n"
     ]
    }
   ],
   "source": [
    "history = model.fit(standard_value, train_labels, batch_size=64, epochs=30)"
   ]
  },
  {
   "cell_type": "code",
   "execution_count": 45,
   "metadata": {},
   "outputs": [
    {
     "data": {
      "text/plain": [
       "{'loss': [70.6396844316237,\n",
       "  59.74096528610381,\n",
       "  50.662880793656456,\n",
       "  44.10587862222501,\n",
       "  38.102765961448746,\n",
       "  33.77226742659465,\n",
       "  30.634102018752902,\n",
       "  27.65945100312186,\n",
       "  24.956204990349192,\n",
       "  23.481104614711043,\n",
       "  21.792715884671352,\n",
       "  20.65432644834613,\n",
       "  19.447601167282254,\n",
       "  18.35825825681781,\n",
       "  17.531574929114615,\n",
       "  16.888545480104955,\n",
       "  15.8053029598576,\n",
       "  15.367109912456852,\n",
       "  14.88769270641969,\n",
       "  14.118886664362236],\n",
       " 'mean_absolute_error': [6.4303610867793015,\n",
       "  5.864380463515178,\n",
       "  5.362708275861079,\n",
       "  4.929474221597804,\n",
       "  4.572500823747994,\n",
       "  4.254481627209352,\n",
       "  3.9935068989744282,\n",
       "  3.788769825850383,\n",
       "  3.6052281927354266,\n",
       "  3.4565653494088955,\n",
       "  3.3090258824943315,\n",
       "  3.2756545189583655,\n",
       "  3.150076143812425,\n",
       "  3.037265699688751,\n",
       "  2.9762107877448054,\n",
       "  2.926795997241936,\n",
       "  2.8352046886293016,\n",
       "  2.7276021608031624,\n",
       "  2.696492315518974,\n",
       "  2.6547941099299064]}"
      ]
     },
     "execution_count": 45,
     "metadata": {},
     "output_type": "execute_result"
    }
   ],
   "source": [
    "history.history"
   ]
  },
  {
   "cell_type": "code",
   "execution_count": 46,
   "metadata": {},
   "outputs": [],
   "source": [
    "import matplotlib.pyplot as plt"
   ]
  },
  {
   "cell_type": "code",
   "execution_count": 51,
   "metadata": {},
   "outputs": [
    {
     "data": {
      "image/png": "[encoded data removed]",
      "text/plain": [
       "<matplotlib.figure.Figure at 0x2bc44103278>"
      ]
     },
     "metadata": {
      "needs_background": "light"
     },
     "output_type": "display_data"
    }
   ],
   "source": [
    "epochs = [i for i in range(1, 21)]\n",
    "plt.plot(epochs, history.history['loss'], 'r', label='loss')\n",
    "plt.plot(epochs, history.history['mean_absolute_error'], 'b', label='mean_absolute_error')\n",
    "plt.legend()\n",
    "plt.xlabel(\"Epochs\")\n",
    "plt.ylabel(\"Value\")\n",
    "plt.show()"
   ]
  },
  {
   "cell_type": "code",
   "execution_count": 52,
   "metadata": {},
   "outputs": [],
   "source": [
    "plt.plot??"
   ]
  },
  {
   "cell_type": "code",
   "execution_count": 54,
   "metadata": {},
   "outputs": [],
   "source": [
    "# 数据集比较小，为了在调节网络参数的同时对网络进行评估， 需要利用交叉验证对网络进行可靠评估"
   ]
  },
  {
   "cell_type": "code",
   "execution_count": 69,
   "metadata": {},
   "outputs": [],
   "source": [
    "def k_fold_validation(train_data, train_labels, samples, k=4):\n",
    "    for i in range(4):\n",
    "        # start = i * smaples_number\n",
    "        # end = (i+1) * samples_number\n",
    "        partial_val_data = train_data[i * samples:(i+1)*samples]\n",
    "        partial_val_label = train_labels[i * samples:(i+1)*samples]\n",
    "        partital_train_data = np.concatenate([train_data[(i+1)*samples:], train_data[:i*samples]])\n",
    "        partital_train_label = np.concatenate([train_labels[(i+1)*samples:], train_labels[:i*samples]])\n",
    "        print(partial_val_data, partial_val_label, partital_train_data, partital_train_label)"
   ]
  },
  {
   "cell_type": "code",
   "execution_count": 63,
   "metadata": {},
   "outputs": [],
   "source": [
    "samples = int(len(train_data) / len(train_data))"
   ]
  },
  {
   "cell_type": "code",
   "execution_count": 64,
   "metadata": {},
   "outputs": [
    {
     "data": {
      "text/plain": [
       "1"
      ]
     },
     "execution_count": 64,
     "metadata": {},
     "output_type": "execute_result"
    }
   ],
   "source": [
    "samples"
   ]
  },
  {
   "cell_type": "code",
   "execution_count": 62,
   "metadata": {},
   "outputs": [],
   "source": [
    "t_data = np.array([[1, 2], [3, 4], [5, 6], [7, 8]])\n",
    "t_label = np.array([1, 2, 3, 4])"
   ]
  },
  {
   "cell_type": "code",
   "execution_count": 70,
   "metadata": {},
   "outputs": [
    {
     "name": "stdout",
     "output_type": "stream",
     "text": [
      "[[1 2]] [1] [[3 4]\n",
      " [5 6]\n",
      " [7 8]] [2 3 4]\n",
      "[[3 4]] [2] [[5 6]\n",
      " [7 8]\n",
      " [1 2]] [3 4 1]\n",
      "[[5 6]] [3] [[7 8]\n",
      " [1 2]\n",
      " [3 4]] [4 1 2]\n",
      "[[7 8]] [4] [[1 2]\n",
      " [3 4]\n",
      " [5 6]] [1 2 3]\n"
     ]
    }
   ],
   "source": [
    "k_fold_validation(t_data, t_label, 1, k=4)"
   ]
  },
  {
   "cell_type": "code",
   "execution_count": null,
   "metadata": {},
   "outputs": [],
   "source": []
  }
 ],
 "metadata": {
  "kernelspec": {
   "display_name": "Python 3",
   "language": "python",
   "name": "python3"
  },
  "language_info": {
   "codemirror_mode": {
    "name": "ipython",
    "version": 3
   },
   "file_extension": ".py",
   "mimetype": "text/x-python",
   "name": "python",
   "nbconvert_exporter": "python",
   "pygments_lexer": "ipython3",
   "version": "3.5.4"
  }
 },
 "nbformat": 4,
 "nbformat_minor": 2
}
